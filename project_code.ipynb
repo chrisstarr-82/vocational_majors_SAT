{
 "cells": [
  {
   "cell_type": "markdown",
   "metadata": {},
   "source": [
    "<img src=\"http://imgur.com/1ZcRyrc.png\" style=\"float: left; margin: 20px; height: 55px\">\n",
    "\n",
    "# Project 1: Standardized Test Analysis"
   ]
  },
  {
   "cell_type": "markdown",
   "metadata": {},
   "source": [
    "### Contents:\n",
    "- [Data Import & Cleaning](#Data-Import-and-Cleaning)\n",
    "- [Exploratory Data Analysis](#Exploratory-Data-Analysis)\n",
    "- [Data Visualization](#Visualize-the-Data)"
   ]
  },
  {
   "cell_type": "markdown",
   "metadata": {},
   "source": [
    "### Coding Challenges\n",
    "\n",
    "1. Manually calculate mean:\n",
    "\n",
    "    Write a function that takes in values and returns the mean of the values. Create a list of numbers that you test on your function to check to make sure your function works!\n",
    "    \n",
    "    *Note*: Do not use any mean methods built-in to any Python libraries to do this! This should be done without importing any additional libraries."
   ]
  },
  {
   "cell_type": "code",
   "execution_count": 1,
   "metadata": {},
   "outputs": [
    {
     "data": {
      "text/plain": [
       "2.5"
      ]
     },
     "execution_count": 1,
     "metadata": {},
     "output_type": "execute_result"
    }
   ],
   "source": [
    "def calculate_mean(number_list):\n",
    "    return sum(number_list)/ len(number_list)\n",
    "\n",
    "calculate_mean([1,2,3,4])"
   ]
  },
  {
   "cell_type": "markdown",
   "metadata": {},
   "source": [
    "2. Manually calculate standard deviation:\n",
    "\n",
    "    The formula for standard deviation is below:\n",
    "\n",
    "    $$\\sigma = \\sqrt{\\frac{1}{n}\\sum_{i=1}^n(x_i - \\mu)^2}$$\n",
    "\n",
    "    Where $x_i$ represents each value in the dataset, $\\mu$ represents the mean of all values in the dataset and $n$ represents the number of values in the dataset.\n",
    "\n",
    "    Write a function that takes in values and returns the standard deviation of the values using the formula above. Hint: use the function you wrote above to calculate the mean! Use the list of numbers you created above to test on your function.\n",
    "    \n",
    "    *Note*: Do not use any standard deviation methods built-in to any Python libraries to do this! This should be done without importing any additional libraries."
   ]
  },
  {
   "cell_type": "code",
   "execution_count": 2,
   "metadata": {},
   "outputs": [
    {
     "data": {
      "text/plain": [
       "1.118033988749895"
      ]
     },
     "execution_count": 2,
     "metadata": {},
     "output_type": "execute_result"
    }
   ],
   "source": [
    "def calculate_stdev(number_list):\n",
    "    n = len(number_list)\n",
    "    u = calculate_mean(number_list)\n",
    "    sum_differences = sum([(x - u) ** 2 for x in number_list])\n",
    "    return ((1 / n) * sum_differences) ** 0.5\n",
    "\n",
    "calculate_stdev([1,2,3,4])\n",
    "        "
   ]
  },
  {
   "cell_type": "markdown",
   "metadata": {},
   "source": [
    "3. Data cleaning function:\n",
    "    \n",
    "    Write a function that takes in a string that is a number and a percent symbol (ex. '50%', '30.5%', etc.) and converts this to a float that is the decimal approximation of the percent. For example, inputting '50%' in your function should return 0.5, '30.5%' should return 0.305, etc. Make sure to test your function to make sure it works!\n",
    "\n",
    "You will use these functions later on in the project!"
   ]
  },
  {
   "cell_type": "code",
   "execution_count": 3,
   "metadata": {},
   "outputs": [],
   "source": [
    "def clean_data(percent_string):\n",
    "    definitely_string = str(percent_string)\n",
    "    if definitely_string != '':\n",
    "        percent = definitely_string.strip('%')\n",
    "        return float(percent) / 100"
   ]
  },
  {
   "cell_type": "markdown",
   "metadata": {},
   "source": [
    "--- \n",
    "# Part 2\n",
    "\n",
    "Part 2 requires knowledge of Pandas, EDA, data cleaning, and data visualization.\n",
    "\n",
    "---"
   ]
  },
  {
   "cell_type": "markdown",
   "metadata": {},
   "source": [
    "*All libraries used should be added here*"
   ]
  },
  {
   "cell_type": "code",
   "execution_count": 4,
   "metadata": {},
   "outputs": [],
   "source": [
    "# Imports:\n",
    "import numpy as np\n",
    "import pandas as pd\n",
    "import matplotlib.pyplot as plt\n",
    "import seaborn as sns"
   ]
  },
  {
   "cell_type": "markdown",
   "metadata": {},
   "source": [
    "## Data Import and Cleaning"
   ]
  },
  {
   "cell_type": "markdown",
   "metadata": {},
   "source": [
    "### Data Import & Cleaning\n",
    "\n",
    "Import the datasets that you selected for this project and go through the following steps at a minimum. You are welcome to do further cleaning as you feel necessary:\n",
    "1. Display the data: print the first 5 rows of each dataframe to your Jupyter notebook.\n",
    "2. Check for missing values.\n",
    "3. Check for any obvious issues with the observations (keep in mind the minimum & maximum possible values for each test/subtest).\n",
    "4. Fix any errors you identified in steps 2-3.\n",
    "5. Display the data types of each feature.\n",
    "6. Fix any incorrect data types found in step 5.\n",
    "    - Fix any individual values preventing other columns from being the appropriate type.\n",
    "    - If your dataset has a column of percents (ex. '50%', '30.5%', etc.), use the function you wrote in Part 1 (coding challenges, number 3) to convert this to floats! *Hint*: use `.map()` or `.apply()`.\n",
    "7. Rename Columns.\n",
    "    - Column names should be all lowercase.\n",
    "    - Column names should not contain spaces (underscores will suffice--this allows for using the `df.column_name` method to access columns in addition to `df['column_name']`).\n",
    "    - Column names should be unique and informative.\n",
    "8. Drop unnecessary rows (if needed).\n",
    "9. Merge dataframes that can be merged.\n",
    "10. Perform any additional cleaning that you feel is necessary.\n",
    "11. Save your cleaned and merged dataframes as csv files."
   ]
  },
  {
   "cell_type": "code",
   "execution_count": 5,
   "metadata": {},
   "outputs": [],
   "source": [
    "sat_state_2019 = pd.read_csv('data/sat_2019.csv')"
   ]
  },
  {
   "cell_type": "code",
   "execution_count": 6,
   "metadata": {},
   "outputs": [],
   "source": [
    "sat_major_2019 = pd.read_csv('data/sat_2019_by_intended_college_major.csv')"
   ]
  },
  {
   "cell_type": "code",
   "execution_count": 7,
   "metadata": {},
   "outputs": [
    {
     "data": {
      "text/html": [
       "<div>\n",
       "<style scoped>\n",
       "    .dataframe tbody tr th:only-of-type {\n",
       "        vertical-align: middle;\n",
       "    }\n",
       "\n",
       "    .dataframe tbody tr th {\n",
       "        vertical-align: top;\n",
       "    }\n",
       "\n",
       "    .dataframe thead th {\n",
       "        text-align: right;\n",
       "    }\n",
       "</style>\n",
       "<table border=\"1\" class=\"dataframe\">\n",
       "  <thead>\n",
       "    <tr style=\"text-align: right;\">\n",
       "      <th></th>\n",
       "      <th>State</th>\n",
       "      <th>Participation Rate</th>\n",
       "      <th>EBRW</th>\n",
       "      <th>Math</th>\n",
       "      <th>Total</th>\n",
       "    </tr>\n",
       "  </thead>\n",
       "  <tbody>\n",
       "    <tr>\n",
       "      <th>0</th>\n",
       "      <td>Alabama</td>\n",
       "      <td>7%</td>\n",
       "      <td>583</td>\n",
       "      <td>560</td>\n",
       "      <td>1143</td>\n",
       "    </tr>\n",
       "    <tr>\n",
       "      <th>1</th>\n",
       "      <td>Alaska</td>\n",
       "      <td>41%</td>\n",
       "      <td>556</td>\n",
       "      <td>541</td>\n",
       "      <td>1097</td>\n",
       "    </tr>\n",
       "    <tr>\n",
       "      <th>2</th>\n",
       "      <td>Arizona</td>\n",
       "      <td>31%</td>\n",
       "      <td>569</td>\n",
       "      <td>565</td>\n",
       "      <td>1134</td>\n",
       "    </tr>\n",
       "    <tr>\n",
       "      <th>3</th>\n",
       "      <td>Arkansas</td>\n",
       "      <td>6%</td>\n",
       "      <td>582</td>\n",
       "      <td>559</td>\n",
       "      <td>1141</td>\n",
       "    </tr>\n",
       "    <tr>\n",
       "      <th>4</th>\n",
       "      <td>California</td>\n",
       "      <td>63%</td>\n",
       "      <td>534</td>\n",
       "      <td>531</td>\n",
       "      <td>1065</td>\n",
       "    </tr>\n",
       "  </tbody>\n",
       "</table>\n",
       "</div>"
      ],
      "text/plain": [
       "        State Participation Rate  EBRW  Math  Total\n",
       "0     Alabama                 7%   583   560   1143\n",
       "1      Alaska                41%   556   541   1097\n",
       "2     Arizona                31%   569   565   1134\n",
       "3    Arkansas                 6%   582   559   1141\n",
       "4  California                63%   534   531   1065"
      ]
     },
     "execution_count": 7,
     "metadata": {},
     "output_type": "execute_result"
    }
   ],
   "source": [
    "sat_state_2019.head()"
   ]
  },
  {
   "cell_type": "code",
   "execution_count": 8,
   "metadata": {
    "scrolled": false
   },
   "outputs": [
    {
     "data": {
      "text/html": [
       "<div>\n",
       "<style scoped>\n",
       "    .dataframe tbody tr th:only-of-type {\n",
       "        vertical-align: middle;\n",
       "    }\n",
       "\n",
       "    .dataframe tbody tr th {\n",
       "        vertical-align: top;\n",
       "    }\n",
       "\n",
       "    .dataframe thead th {\n",
       "        text-align: right;\n",
       "    }\n",
       "</style>\n",
       "<table border=\"1\" class=\"dataframe\">\n",
       "  <thead>\n",
       "    <tr style=\"text-align: right;\">\n",
       "      <th></th>\n",
       "      <th>IntendedCollegeMajor</th>\n",
       "      <th>TestTakers</th>\n",
       "      <th>Percent</th>\n",
       "      <th>Total</th>\n",
       "      <th>ReadingWriting</th>\n",
       "      <th>Math</th>\n",
       "    </tr>\n",
       "  </thead>\n",
       "  <tbody>\n",
       "    <tr>\n",
       "      <th>0</th>\n",
       "      <td>Agriculture, AgricultureOperations, and Relate...</td>\n",
       "      <td>24,913</td>\n",
       "      <td>1%</td>\n",
       "      <td>977</td>\n",
       "      <td>496</td>\n",
       "      <td>481</td>\n",
       "    </tr>\n",
       "    <tr>\n",
       "      <th>1</th>\n",
       "      <td>Architecture and Related Services</td>\n",
       "      <td>28,988</td>\n",
       "      <td>2%</td>\n",
       "      <td>1047</td>\n",
       "      <td>520</td>\n",
       "      <td>527</td>\n",
       "    </tr>\n",
       "    <tr>\n",
       "      <th>2</th>\n",
       "      <td>Area, Ethnic, Cultural, and Gender Studies</td>\n",
       "      <td>2,629</td>\n",
       "      <td>0%</td>\n",
       "      <td>1040</td>\n",
       "      <td>536</td>\n",
       "      <td>504</td>\n",
       "    </tr>\n",
       "    <tr>\n",
       "      <th>3</th>\n",
       "      <td>Biological and Biomedical Sciences</td>\n",
       "      <td>155,834</td>\n",
       "      <td>8%</td>\n",
       "      <td>1139</td>\n",
       "      <td>572</td>\n",
       "      <td>566</td>\n",
       "    </tr>\n",
       "    <tr>\n",
       "      <th>4</th>\n",
       "      <td>Business, Management, Marketing, and Related S...</td>\n",
       "      <td>221,523</td>\n",
       "      <td>12%</td>\n",
       "      <td>1072</td>\n",
       "      <td>534</td>\n",
       "      <td>537</td>\n",
       "    </tr>\n",
       "  </tbody>\n",
       "</table>\n",
       "</div>"
      ],
      "text/plain": [
       "                                IntendedCollegeMajor TestTakers Percent  \\\n",
       "0  Agriculture, AgricultureOperations, and Relate...     24,913      1%   \n",
       "1                  Architecture and Related Services     28,988      2%   \n",
       "2         Area, Ethnic, Cultural, and Gender Studies      2,629      0%   \n",
       "3                 Biological and Biomedical Sciences    155,834      8%   \n",
       "4  Business, Management, Marketing, and Related S...    221,523     12%   \n",
       "\n",
       "   Total  ReadingWriting  Math  \n",
       "0    977             496   481  \n",
       "1   1047             520   527  \n",
       "2   1040             536   504  \n",
       "3   1139             572   566  \n",
       "4   1072             534   537  "
      ]
     },
     "execution_count": 8,
     "metadata": {},
     "output_type": "execute_result"
    }
   ],
   "source": [
    "sat_major_2019.head()"
   ]
  },
  {
   "cell_type": "code",
   "execution_count": 9,
   "metadata": {},
   "outputs": [],
   "source": [
    "sat_state_2018 = pd.read_csv('data/sat_2018.csv')"
   ]
  },
  {
   "cell_type": "code",
   "execution_count": 10,
   "metadata": {},
   "outputs": [],
   "source": [
    "sat_state_2017 = pd.read_csv('data/sat_2017.csv')"
   ]
  },
  {
   "cell_type": "code",
   "execution_count": 11,
   "metadata": {},
   "outputs": [
    {
     "data": {
      "text/html": [
       "<div>\n",
       "<style scoped>\n",
       "    .dataframe tbody tr th:only-of-type {\n",
       "        vertical-align: middle;\n",
       "    }\n",
       "\n",
       "    .dataframe tbody tr th {\n",
       "        vertical-align: top;\n",
       "    }\n",
       "\n",
       "    .dataframe thead th {\n",
       "        text-align: right;\n",
       "    }\n",
       "</style>\n",
       "<table border=\"1\" class=\"dataframe\">\n",
       "  <thead>\n",
       "    <tr style=\"text-align: right;\">\n",
       "      <th></th>\n",
       "      <th>State</th>\n",
       "      <th>Participation</th>\n",
       "      <th>Evidence-Based Reading and Writing</th>\n",
       "      <th>Math</th>\n",
       "      <th>Total</th>\n",
       "    </tr>\n",
       "  </thead>\n",
       "  <tbody>\n",
       "    <tr>\n",
       "      <th>0</th>\n",
       "      <td>Alabama</td>\n",
       "      <td>6%</td>\n",
       "      <td>595</td>\n",
       "      <td>571</td>\n",
       "      <td>1166</td>\n",
       "    </tr>\n",
       "    <tr>\n",
       "      <th>1</th>\n",
       "      <td>Alaska</td>\n",
       "      <td>43%</td>\n",
       "      <td>562</td>\n",
       "      <td>544</td>\n",
       "      <td>1106</td>\n",
       "    </tr>\n",
       "    <tr>\n",
       "      <th>2</th>\n",
       "      <td>Arizona</td>\n",
       "      <td>29%</td>\n",
       "      <td>577</td>\n",
       "      <td>572</td>\n",
       "      <td>1149</td>\n",
       "    </tr>\n",
       "    <tr>\n",
       "      <th>3</th>\n",
       "      <td>Arkansas</td>\n",
       "      <td>5%</td>\n",
       "      <td>592</td>\n",
       "      <td>576</td>\n",
       "      <td>1169</td>\n",
       "    </tr>\n",
       "    <tr>\n",
       "      <th>4</th>\n",
       "      <td>California</td>\n",
       "      <td>60%</td>\n",
       "      <td>540</td>\n",
       "      <td>536</td>\n",
       "      <td>1076</td>\n",
       "    </tr>\n",
       "  </tbody>\n",
       "</table>\n",
       "</div>"
      ],
      "text/plain": [
       "        State Participation  Evidence-Based Reading and Writing  Math  Total\n",
       "0     Alabama            6%                                 595   571   1166\n",
       "1      Alaska           43%                                 562   544   1106\n",
       "2     Arizona           29%                                 577   572   1149\n",
       "3    Arkansas            5%                                 592   576   1169\n",
       "4  California           60%                                 540   536   1076"
      ]
     },
     "execution_count": 11,
     "metadata": {},
     "output_type": "execute_result"
    }
   ],
   "source": [
    "sat_state_2018.head()"
   ]
  },
  {
   "cell_type": "code",
   "execution_count": 12,
   "metadata": {},
   "outputs": [
    {
     "data": {
      "text/html": [
       "<div>\n",
       "<style scoped>\n",
       "    .dataframe tbody tr th:only-of-type {\n",
       "        vertical-align: middle;\n",
       "    }\n",
       "\n",
       "    .dataframe tbody tr th {\n",
       "        vertical-align: top;\n",
       "    }\n",
       "\n",
       "    .dataframe thead th {\n",
       "        text-align: right;\n",
       "    }\n",
       "</style>\n",
       "<table border=\"1\" class=\"dataframe\">\n",
       "  <thead>\n",
       "    <tr style=\"text-align: right;\">\n",
       "      <th></th>\n",
       "      <th>State</th>\n",
       "      <th>Participation</th>\n",
       "      <th>Evidence-Based Reading and Writing</th>\n",
       "      <th>Math</th>\n",
       "      <th>Total</th>\n",
       "    </tr>\n",
       "  </thead>\n",
       "  <tbody>\n",
       "    <tr>\n",
       "      <th>0</th>\n",
       "      <td>Alabama</td>\n",
       "      <td>5%</td>\n",
       "      <td>593</td>\n",
       "      <td>572</td>\n",
       "      <td>1165</td>\n",
       "    </tr>\n",
       "    <tr>\n",
       "      <th>1</th>\n",
       "      <td>Alaska</td>\n",
       "      <td>38%</td>\n",
       "      <td>547</td>\n",
       "      <td>533</td>\n",
       "      <td>1080</td>\n",
       "    </tr>\n",
       "    <tr>\n",
       "      <th>2</th>\n",
       "      <td>Arizona</td>\n",
       "      <td>30%</td>\n",
       "      <td>563</td>\n",
       "      <td>553</td>\n",
       "      <td>1116</td>\n",
       "    </tr>\n",
       "    <tr>\n",
       "      <th>3</th>\n",
       "      <td>Arkansas</td>\n",
       "      <td>3%</td>\n",
       "      <td>614</td>\n",
       "      <td>594</td>\n",
       "      <td>1208</td>\n",
       "    </tr>\n",
       "    <tr>\n",
       "      <th>4</th>\n",
       "      <td>California</td>\n",
       "      <td>53%</td>\n",
       "      <td>531</td>\n",
       "      <td>524</td>\n",
       "      <td>1055</td>\n",
       "    </tr>\n",
       "  </tbody>\n",
       "</table>\n",
       "</div>"
      ],
      "text/plain": [
       "        State Participation  Evidence-Based Reading and Writing  Math  Total\n",
       "0     Alabama            5%                                 593   572   1165\n",
       "1      Alaska           38%                                 547   533   1080\n",
       "2     Arizona           30%                                 563   553   1116\n",
       "3    Arkansas            3%                                 614   594   1208\n",
       "4  California           53%                                 531   524   1055"
      ]
     },
     "execution_count": 12,
     "metadata": {},
     "output_type": "execute_result"
    }
   ],
   "source": [
    "sat_state_2017.head()"
   ]
  },
  {
   "cell_type": "markdown",
   "metadata": {},
   "source": [
    "\n",
    "#### Check for missing values."
   ]
  },
  {
   "cell_type": "code",
   "execution_count": 13,
   "metadata": {},
   "outputs": [
    {
     "data": {
      "text/plain": [
       "State                 0\n",
       "Participation Rate    0\n",
       "EBRW                  0\n",
       "Math                  0\n",
       "Total                 0\n",
       "dtype: int64"
      ]
     },
     "execution_count": 13,
     "metadata": {},
     "output_type": "execute_result"
    }
   ],
   "source": [
    "sat_state_2019.isnull().sum()"
   ]
  },
  {
   "cell_type": "code",
   "execution_count": 14,
   "metadata": {},
   "outputs": [
    {
     "data": {
      "text/plain": [
       "IntendedCollegeMajor    0\n",
       "TestTakers              0\n",
       "Percent                 0\n",
       "Total                   0\n",
       "ReadingWriting          0\n",
       "Math                    0\n",
       "dtype: int64"
      ]
     },
     "execution_count": 14,
     "metadata": {},
     "output_type": "execute_result"
    }
   ],
   "source": [
    "sat_major_2019.isnull().sum()"
   ]
  },
  {
   "cell_type": "code",
   "execution_count": 15,
   "metadata": {},
   "outputs": [
    {
     "data": {
      "text/plain": [
       "State                                 0\n",
       "Participation                         0\n",
       "Evidence-Based Reading and Writing    0\n",
       "Math                                  0\n",
       "Total                                 0\n",
       "dtype: int64"
      ]
     },
     "execution_count": 15,
     "metadata": {},
     "output_type": "execute_result"
    }
   ],
   "source": [
    "sat_state_2018.isnull().sum()"
   ]
  },
  {
   "cell_type": "code",
   "execution_count": 16,
   "metadata": {},
   "outputs": [
    {
     "data": {
      "text/plain": [
       "State                                 0\n",
       "Participation                         0\n",
       "Evidence-Based Reading and Writing    0\n",
       "Math                                  0\n",
       "Total                                 0\n",
       "dtype: int64"
      ]
     },
     "execution_count": 16,
     "metadata": {},
     "output_type": "execute_result"
    }
   ],
   "source": [
    "sat_state_2017.isnull().sum()"
   ]
  },
  {
   "cell_type": "markdown",
   "metadata": {},
   "source": [
    "#### Check for any obvious issues with the observations (keep in mind the minimum & maximum possible values for each test/subtest)"
   ]
  },
  {
   "cell_type": "code",
   "execution_count": 17,
   "metadata": {},
   "outputs": [
    {
     "data": {
      "text/html": [
       "<div>\n",
       "<style scoped>\n",
       "    .dataframe tbody tr th:only-of-type {\n",
       "        vertical-align: middle;\n",
       "    }\n",
       "\n",
       "    .dataframe tbody tr th {\n",
       "        vertical-align: top;\n",
       "    }\n",
       "\n",
       "    .dataframe thead th {\n",
       "        text-align: right;\n",
       "    }\n",
       "</style>\n",
       "<table border=\"1\" class=\"dataframe\">\n",
       "  <thead>\n",
       "    <tr style=\"text-align: right;\">\n",
       "      <th></th>\n",
       "      <th>Evidence-Based Reading and Writing</th>\n",
       "      <th>Math</th>\n",
       "      <th>Total</th>\n",
       "    </tr>\n",
       "  </thead>\n",
       "  <tbody>\n",
       "    <tr>\n",
       "      <th>count</th>\n",
       "      <td>51.000000</td>\n",
       "      <td>51.000000</td>\n",
       "      <td>51.000000</td>\n",
       "    </tr>\n",
       "    <tr>\n",
       "      <th>mean</th>\n",
       "      <td>569.117647</td>\n",
       "      <td>547.627451</td>\n",
       "      <td>1126.098039</td>\n",
       "    </tr>\n",
       "    <tr>\n",
       "      <th>std</th>\n",
       "      <td>45.666901</td>\n",
       "      <td>84.909119</td>\n",
       "      <td>92.494812</td>\n",
       "    </tr>\n",
       "    <tr>\n",
       "      <th>min</th>\n",
       "      <td>482.000000</td>\n",
       "      <td>52.000000</td>\n",
       "      <td>950.000000</td>\n",
       "    </tr>\n",
       "    <tr>\n",
       "      <th>25%</th>\n",
       "      <td>533.500000</td>\n",
       "      <td>522.000000</td>\n",
       "      <td>1055.500000</td>\n",
       "    </tr>\n",
       "    <tr>\n",
       "      <th>50%</th>\n",
       "      <td>559.000000</td>\n",
       "      <td>548.000000</td>\n",
       "      <td>1107.000000</td>\n",
       "    </tr>\n",
       "    <tr>\n",
       "      <th>75%</th>\n",
       "      <td>613.000000</td>\n",
       "      <td>599.000000</td>\n",
       "      <td>1212.000000</td>\n",
       "    </tr>\n",
       "    <tr>\n",
       "      <th>max</th>\n",
       "      <td>644.000000</td>\n",
       "      <td>651.000000</td>\n",
       "      <td>1295.000000</td>\n",
       "    </tr>\n",
       "  </tbody>\n",
       "</table>\n",
       "</div>"
      ],
      "text/plain": [
       "       Evidence-Based Reading and Writing        Math        Total\n",
       "count                           51.000000   51.000000    51.000000\n",
       "mean                           569.117647  547.627451  1126.098039\n",
       "std                             45.666901   84.909119    92.494812\n",
       "min                            482.000000   52.000000   950.000000\n",
       "25%                            533.500000  522.000000  1055.500000\n",
       "50%                            559.000000  548.000000  1107.000000\n",
       "75%                            613.000000  599.000000  1212.000000\n",
       "max                            644.000000  651.000000  1295.000000"
      ]
     },
     "execution_count": 17,
     "metadata": {},
     "output_type": "execute_result"
    }
   ],
   "source": [
    "sat_state_2017.describe()\n",
    "# The min for the Math column is below the SAT math section minimum of 200"
   ]
  },
  {
   "cell_type": "code",
   "execution_count": 18,
   "metadata": {},
   "outputs": [
    {
     "data": {
      "text/html": [
       "<div>\n",
       "<style scoped>\n",
       "    .dataframe tbody tr th:only-of-type {\n",
       "        vertical-align: middle;\n",
       "    }\n",
       "\n",
       "    .dataframe tbody tr th {\n",
       "        vertical-align: top;\n",
       "    }\n",
       "\n",
       "    .dataframe thead th {\n",
       "        text-align: right;\n",
       "    }\n",
       "</style>\n",
       "<table border=\"1\" class=\"dataframe\">\n",
       "  <thead>\n",
       "    <tr style=\"text-align: right;\">\n",
       "      <th></th>\n",
       "      <th>Evidence-Based Reading and Writing</th>\n",
       "      <th>Math</th>\n",
       "      <th>Total</th>\n",
       "    </tr>\n",
       "  </thead>\n",
       "  <tbody>\n",
       "    <tr>\n",
       "      <th>count</th>\n",
       "      <td>51.000000</td>\n",
       "      <td>51.000000</td>\n",
       "      <td>51.000000</td>\n",
       "    </tr>\n",
       "    <tr>\n",
       "      <th>mean</th>\n",
       "      <td>563.686275</td>\n",
       "      <td>556.235294</td>\n",
       "      <td>1120.019608</td>\n",
       "    </tr>\n",
       "    <tr>\n",
       "      <th>std</th>\n",
       "      <td>47.502627</td>\n",
       "      <td>47.772623</td>\n",
       "      <td>94.155083</td>\n",
       "    </tr>\n",
       "    <tr>\n",
       "      <th>min</th>\n",
       "      <td>480.000000</td>\n",
       "      <td>480.000000</td>\n",
       "      <td>977.000000</td>\n",
       "    </tr>\n",
       "    <tr>\n",
       "      <th>25%</th>\n",
       "      <td>534.500000</td>\n",
       "      <td>522.500000</td>\n",
       "      <td>1057.500000</td>\n",
       "    </tr>\n",
       "    <tr>\n",
       "      <th>50%</th>\n",
       "      <td>552.000000</td>\n",
       "      <td>544.000000</td>\n",
       "      <td>1098.000000</td>\n",
       "    </tr>\n",
       "    <tr>\n",
       "      <th>75%</th>\n",
       "      <td>610.500000</td>\n",
       "      <td>593.500000</td>\n",
       "      <td>1204.000000</td>\n",
       "    </tr>\n",
       "    <tr>\n",
       "      <th>max</th>\n",
       "      <td>643.000000</td>\n",
       "      <td>655.000000</td>\n",
       "      <td>1298.000000</td>\n",
       "    </tr>\n",
       "  </tbody>\n",
       "</table>\n",
       "</div>"
      ],
      "text/plain": [
       "       Evidence-Based Reading and Writing        Math        Total\n",
       "count                           51.000000   51.000000    51.000000\n",
       "mean                           563.686275  556.235294  1120.019608\n",
       "std                             47.502627   47.772623    94.155083\n",
       "min                            480.000000  480.000000   977.000000\n",
       "25%                            534.500000  522.500000  1057.500000\n",
       "50%                            552.000000  544.000000  1098.000000\n",
       "75%                            610.500000  593.500000  1204.000000\n",
       "max                            643.000000  655.000000  1298.000000"
      ]
     },
     "execution_count": 18,
     "metadata": {},
     "output_type": "execute_result"
    }
   ],
   "source": [
    "sat_state_2018.describe()"
   ]
  },
  {
   "cell_type": "code",
   "execution_count": 19,
   "metadata": {},
   "outputs": [
    {
     "data": {
      "text/html": [
       "<div>\n",
       "<style scoped>\n",
       "    .dataframe tbody tr th:only-of-type {\n",
       "        vertical-align: middle;\n",
       "    }\n",
       "\n",
       "    .dataframe tbody tr th {\n",
       "        vertical-align: top;\n",
       "    }\n",
       "\n",
       "    .dataframe thead th {\n",
       "        text-align: right;\n",
       "    }\n",
       "</style>\n",
       "<table border=\"1\" class=\"dataframe\">\n",
       "  <thead>\n",
       "    <tr style=\"text-align: right;\">\n",
       "      <th></th>\n",
       "      <th>EBRW</th>\n",
       "      <th>Math</th>\n",
       "      <th>Total</th>\n",
       "    </tr>\n",
       "  </thead>\n",
       "  <tbody>\n",
       "    <tr>\n",
       "      <th>count</th>\n",
       "      <td>53.000000</td>\n",
       "      <td>53.000000</td>\n",
       "      <td>53.000000</td>\n",
       "    </tr>\n",
       "    <tr>\n",
       "      <th>mean</th>\n",
       "      <td>558.000000</td>\n",
       "      <td>548.471698</td>\n",
       "      <td>1106.528302</td>\n",
       "    </tr>\n",
       "    <tr>\n",
       "      <th>std</th>\n",
       "      <td>47.554422</td>\n",
       "      <td>53.785044</td>\n",
       "      <td>100.994784</td>\n",
       "    </tr>\n",
       "    <tr>\n",
       "      <th>min</th>\n",
       "      <td>483.000000</td>\n",
       "      <td>445.000000</td>\n",
       "      <td>935.000000</td>\n",
       "    </tr>\n",
       "    <tr>\n",
       "      <th>25%</th>\n",
       "      <td>518.000000</td>\n",
       "      <td>506.000000</td>\n",
       "      <td>1024.000000</td>\n",
       "    </tr>\n",
       "    <tr>\n",
       "      <th>50%</th>\n",
       "      <td>550.000000</td>\n",
       "      <td>545.000000</td>\n",
       "      <td>1097.000000</td>\n",
       "    </tr>\n",
       "    <tr>\n",
       "      <th>75%</th>\n",
       "      <td>610.000000</td>\n",
       "      <td>596.000000</td>\n",
       "      <td>1200.000000</td>\n",
       "    </tr>\n",
       "    <tr>\n",
       "      <th>max</th>\n",
       "      <td>636.000000</td>\n",
       "      <td>648.000000</td>\n",
       "      <td>1284.000000</td>\n",
       "    </tr>\n",
       "  </tbody>\n",
       "</table>\n",
       "</div>"
      ],
      "text/plain": [
       "             EBRW        Math        Total\n",
       "count   53.000000   53.000000    53.000000\n",
       "mean   558.000000  548.471698  1106.528302\n",
       "std     47.554422   53.785044   100.994784\n",
       "min    483.000000  445.000000   935.000000\n",
       "25%    518.000000  506.000000  1024.000000\n",
       "50%    550.000000  545.000000  1097.000000\n",
       "75%    610.000000  596.000000  1200.000000\n",
       "max    636.000000  648.000000  1284.000000"
      ]
     },
     "execution_count": 19,
     "metadata": {},
     "output_type": "execute_result"
    }
   ],
   "source": [
    "sat_state_2019.describe()"
   ]
  },
  {
   "cell_type": "code",
   "execution_count": 20,
   "metadata": {},
   "outputs": [
    {
     "data": {
      "text/html": [
       "<div>\n",
       "<style scoped>\n",
       "    .dataframe tbody tr th:only-of-type {\n",
       "        vertical-align: middle;\n",
       "    }\n",
       "\n",
       "    .dataframe tbody tr th {\n",
       "        vertical-align: top;\n",
       "    }\n",
       "\n",
       "    .dataframe thead th {\n",
       "        text-align: right;\n",
       "    }\n",
       "</style>\n",
       "<table border=\"1\" class=\"dataframe\">\n",
       "  <thead>\n",
       "    <tr style=\"text-align: right;\">\n",
       "      <th></th>\n",
       "      <th>Total</th>\n",
       "      <th>ReadingWriting</th>\n",
       "      <th>Math</th>\n",
       "    </tr>\n",
       "  </thead>\n",
       "  <tbody>\n",
       "    <tr>\n",
       "      <th>count</th>\n",
       "      <td>38.000000</td>\n",
       "      <td>38.000000</td>\n",
       "      <td>38.000000</td>\n",
       "    </tr>\n",
       "    <tr>\n",
       "      <th>mean</th>\n",
       "      <td>1058.500000</td>\n",
       "      <td>535.500000</td>\n",
       "      <td>523.000000</td>\n",
       "    </tr>\n",
       "    <tr>\n",
       "      <th>std</th>\n",
       "      <td>82.445969</td>\n",
       "      <td>41.362439</td>\n",
       "      <td>43.386385</td>\n",
       "    </tr>\n",
       "    <tr>\n",
       "      <th>min</th>\n",
       "      <td>916.000000</td>\n",
       "      <td>458.000000</td>\n",
       "      <td>456.000000</td>\n",
       "    </tr>\n",
       "    <tr>\n",
       "      <th>25%</th>\n",
       "      <td>988.250000</td>\n",
       "      <td>501.250000</td>\n",
       "      <td>486.500000</td>\n",
       "    </tr>\n",
       "    <tr>\n",
       "      <th>50%</th>\n",
       "      <td>1066.500000</td>\n",
       "      <td>537.000000</td>\n",
       "      <td>527.000000</td>\n",
       "    </tr>\n",
       "    <tr>\n",
       "      <th>75%</th>\n",
       "      <td>1115.500000</td>\n",
       "      <td>569.750000</td>\n",
       "      <td>542.250000</td>\n",
       "    </tr>\n",
       "    <tr>\n",
       "      <th>max</th>\n",
       "      <td>1242.000000</td>\n",
       "      <td>597.000000</td>\n",
       "      <td>646.000000</td>\n",
       "    </tr>\n",
       "  </tbody>\n",
       "</table>\n",
       "</div>"
      ],
      "text/plain": [
       "             Total  ReadingWriting        Math\n",
       "count    38.000000       38.000000   38.000000\n",
       "mean   1058.500000      535.500000  523.000000\n",
       "std      82.445969       41.362439   43.386385\n",
       "min     916.000000      458.000000  456.000000\n",
       "25%     988.250000      501.250000  486.500000\n",
       "50%    1066.500000      537.000000  527.000000\n",
       "75%    1115.500000      569.750000  542.250000\n",
       "max    1242.000000      597.000000  646.000000"
      ]
     },
     "execution_count": 20,
     "metadata": {},
     "output_type": "execute_result"
    }
   ],
   "source": [
    "sat_major_2019.describe()"
   ]
  },
  {
   "cell_type": "code",
   "execution_count": 21,
   "metadata": {},
   "outputs": [
    {
     "data": {
      "text/plain": [
       "20     52\n",
       "8     468\n",
       "7     492\n",
       "12    493\n",
       "22    495\n",
       "9     497\n",
       "19    499\n",
       "43    507\n",
       "6     512\n",
       "10    515\n",
       "36    517\n",
       "29    520\n",
       "40    521\n",
       "32    523\n",
       "39    524\n",
       "4     524\n",
       "30    526\n",
       "48    528\n",
       "38    531\n",
       "14    532\n",
       "1     533\n",
       "47    534\n",
       "33    535\n",
       "46    541\n",
       "11    541\n",
       "37    548\n",
       "21    551\n",
       "45    551\n",
       "2     553\n",
       "28    553\n",
       "13    556\n",
       "31    561\n",
       "35    570\n",
       "0     572\n",
       "18    586\n",
       "26    591\n",
       "3     594\n",
       "5     595\n",
       "41    603\n",
       "42    604\n",
       "50    604\n",
       "24    607\n",
       "44    614\n",
       "17    616\n",
       "34    621\n",
       "27    625\n",
       "16    628\n",
       "25    631\n",
       "15    635\n",
       "49    649\n",
       "23    651\n",
       "Name: Math, dtype: int64"
      ]
     },
     "execution_count": 21,
     "metadata": {},
     "output_type": "execute_result"
    }
   ],
   "source": [
    "# Check how many Math scores are under 200 \n",
    "sat_state_2017['Math'].sort_values()"
   ]
  },
  {
   "cell_type": "code",
   "execution_count": 22,
   "metadata": {},
   "outputs": [],
   "source": [
    "# Replace bad value with a null\n",
    "sat_state_2017.loc[sat_state_2017['Math'] == 52, 'Math'] = None"
   ]
  },
  {
   "cell_type": "code",
   "execution_count": 23,
   "metadata": {},
   "outputs": [
    {
     "data": {
      "text/plain": [
       "8     468.0\n",
       "7     492.0\n",
       "12    493.0\n",
       "22    495.0\n",
       "9     497.0\n",
       "19    499.0\n",
       "43    507.0\n",
       "6     512.0\n",
       "10    515.0\n",
       "36    517.0\n",
       "29    520.0\n",
       "40    521.0\n",
       "32    523.0\n",
       "39    524.0\n",
       "4     524.0\n",
       "30    526.0\n",
       "48    528.0\n",
       "38    531.0\n",
       "14    532.0\n",
       "1     533.0\n",
       "47    534.0\n",
       "33    535.0\n",
       "46    541.0\n",
       "11    541.0\n",
       "37    548.0\n",
       "21    551.0\n",
       "45    551.0\n",
       "2     553.0\n",
       "28    553.0\n",
       "13    556.0\n",
       "31    561.0\n",
       "35    570.0\n",
       "0     572.0\n",
       "18    586.0\n",
       "26    591.0\n",
       "3     594.0\n",
       "5     595.0\n",
       "41    603.0\n",
       "42    604.0\n",
       "50    604.0\n",
       "24    607.0\n",
       "44    614.0\n",
       "17    616.0\n",
       "34    621.0\n",
       "27    625.0\n",
       "16    628.0\n",
       "25    631.0\n",
       "15    635.0\n",
       "49    649.0\n",
       "23    651.0\n",
       "20      NaN\n",
       "Name: Math, dtype: float64"
      ]
     },
     "execution_count": 23,
     "metadata": {},
     "output_type": "execute_result"
    }
   ],
   "source": [
    "sat_state_2017['Math'].sort_values()"
   ]
  },
  {
   "cell_type": "markdown",
   "metadata": {},
   "source": [
    "#### Display the data types of each feature."
   ]
  },
  {
   "cell_type": "code",
   "execution_count": 24,
   "metadata": {},
   "outputs": [
    {
     "data": {
      "text/plain": [
       "State                                  object\n",
       "Participation                          object\n",
       "Evidence-Based Reading and Writing      int64\n",
       "Math                                  float64\n",
       "Total                                   int64\n",
       "dtype: object"
      ]
     },
     "execution_count": 24,
     "metadata": {},
     "output_type": "execute_result"
    }
   ],
   "source": [
    "sat_state_2017.dtypes"
   ]
  },
  {
   "cell_type": "code",
   "execution_count": 25,
   "metadata": {},
   "outputs": [
    {
     "data": {
      "text/plain": [
       "State                                 object\n",
       "Participation                         object\n",
       "Evidence-Based Reading and Writing     int64\n",
       "Math                                   int64\n",
       "Total                                  int64\n",
       "dtype: object"
      ]
     },
     "execution_count": 25,
     "metadata": {},
     "output_type": "execute_result"
    }
   ],
   "source": [
    "sat_state_2018.dtypes"
   ]
  },
  {
   "cell_type": "code",
   "execution_count": 26,
   "metadata": {
    "scrolled": true
   },
   "outputs": [
    {
     "data": {
      "text/plain": [
       "State                 object\n",
       "Participation Rate    object\n",
       "EBRW                   int64\n",
       "Math                   int64\n",
       "Total                  int64\n",
       "dtype: object"
      ]
     },
     "execution_count": 26,
     "metadata": {},
     "output_type": "execute_result"
    }
   ],
   "source": [
    "sat_state_2019.dtypes"
   ]
  },
  {
   "cell_type": "code",
   "execution_count": 27,
   "metadata": {},
   "outputs": [
    {
     "data": {
      "text/plain": [
       "IntendedCollegeMajor    object\n",
       "TestTakers              object\n",
       "Percent                 object\n",
       "Total                    int64\n",
       "ReadingWriting           int64\n",
       "Math                     int64\n",
       "dtype: object"
      ]
     },
     "execution_count": 27,
     "metadata": {},
     "output_type": "execute_result"
    }
   ],
   "source": [
    "sat_major_2019.dtypes"
   ]
  },
  {
   "cell_type": "markdown",
   "metadata": {},
   "source": [
    "#### Fix any incorrect data types found in step 5."
   ]
  },
  {
   "cell_type": "code",
   "execution_count": 28,
   "metadata": {
    "scrolled": true
   },
   "outputs": [],
   "source": [
    "# This didn't work, so I needed to find the problem with Participation columns besides just a % sign\n",
    "# sat_state_2019['Participation Rate'] = sat_state_2019['Participation Rate'].map(clean_data)"
   ]
  },
  {
   "cell_type": "code",
   "execution_count": 29,
   "metadata": {},
   "outputs": [
    {
     "data": {
      "text/plain": [
       "12    100%\n",
       "22    100%\n",
       "5     100%\n",
       "6     100%\n",
       "7     100%\n",
       "40    100%\n",
       "9     100%\n",
       "13    100%\n",
       "31     18%\n",
       "35     19%\n",
       "34      2%\n",
       "28     20%\n",
       "36     22%\n",
       "51      3%\n",
       "27      3%\n",
       "52      3%\n",
       "24      3%\n",
       "42      3%\n",
       "15      3%\n",
       "2      31%\n",
       "16      4%\n",
       "17      4%\n",
       "45      4%\n",
       "23      4%\n",
       "25      4%\n",
       "1      41%\n",
       "18      5%\n",
       "33     51%\n",
       "37     51%\n",
       "11     54%\n",
       "3       6%\n",
       "4      63%\n",
       "14     66%\n",
       "46     66%\n",
       "44     68%\n",
       "41     68%\n",
       "48     68%\n",
       "43      7%\n",
       "0       7%\n",
       "49     70%\n",
       "38     70%\n",
       "10     71%\n",
       "32     79%\n",
       "21     81%\n",
       "30     82%\n",
       "20     82%\n",
       "26      9%\n",
       "8      94%\n",
       "29     95%\n",
       "19     99%\n",
       "50     99%\n",
       "39       —\n",
       "47       —\n",
       "Name: Participation Rate, dtype: object"
      ]
     },
     "execution_count": 29,
     "metadata": {},
     "output_type": "execute_result"
    }
   ],
   "source": [
    "#The problem is dashes\n",
    "sat_state_2019['Participation Rate'].sort_values()"
   ]
  },
  {
   "cell_type": "code",
   "execution_count": 30,
   "metadata": {},
   "outputs": [
    {
     "data": {
      "text/plain": [
       "(51, 5)"
      ]
     },
     "execution_count": 30,
     "metadata": {},
     "output_type": "execute_result"
    }
   ],
   "source": [
    "#drop Puerto Rico and the Virgin Islands\n",
    "sat_state_2019.drop([39, 47], inplace=True)\n",
    "\n",
    "sat_state_2019.shape"
   ]
  },
  {
   "cell_type": "code",
   "execution_count": 31,
   "metadata": {},
   "outputs": [],
   "source": [
    "sat_state_2019['Participation Rate'] = sat_state_2019['Participation Rate'].map(clean_data)"
   ]
  },
  {
   "cell_type": "code",
   "execution_count": 32,
   "metadata": {},
   "outputs": [
    {
     "data": {
      "text/html": [
       "<div>\n",
       "<style scoped>\n",
       "    .dataframe tbody tr th:only-of-type {\n",
       "        vertical-align: middle;\n",
       "    }\n",
       "\n",
       "    .dataframe tbody tr th {\n",
       "        vertical-align: top;\n",
       "    }\n",
       "\n",
       "    .dataframe thead th {\n",
       "        text-align: right;\n",
       "    }\n",
       "</style>\n",
       "<table border=\"1\" class=\"dataframe\">\n",
       "  <thead>\n",
       "    <tr style=\"text-align: right;\">\n",
       "      <th></th>\n",
       "      <th>State</th>\n",
       "      <th>Participation Rate</th>\n",
       "      <th>EBRW</th>\n",
       "      <th>Math</th>\n",
       "      <th>Total</th>\n",
       "    </tr>\n",
       "  </thead>\n",
       "  <tbody>\n",
       "    <tr>\n",
       "      <th>0</th>\n",
       "      <td>Alabama</td>\n",
       "      <td>0.07</td>\n",
       "      <td>583</td>\n",
       "      <td>560</td>\n",
       "      <td>1143</td>\n",
       "    </tr>\n",
       "    <tr>\n",
       "      <th>1</th>\n",
       "      <td>Alaska</td>\n",
       "      <td>0.41</td>\n",
       "      <td>556</td>\n",
       "      <td>541</td>\n",
       "      <td>1097</td>\n",
       "    </tr>\n",
       "    <tr>\n",
       "      <th>2</th>\n",
       "      <td>Arizona</td>\n",
       "      <td>0.31</td>\n",
       "      <td>569</td>\n",
       "      <td>565</td>\n",
       "      <td>1134</td>\n",
       "    </tr>\n",
       "    <tr>\n",
       "      <th>3</th>\n",
       "      <td>Arkansas</td>\n",
       "      <td>0.06</td>\n",
       "      <td>582</td>\n",
       "      <td>559</td>\n",
       "      <td>1141</td>\n",
       "    </tr>\n",
       "    <tr>\n",
       "      <th>4</th>\n",
       "      <td>California</td>\n",
       "      <td>0.63</td>\n",
       "      <td>534</td>\n",
       "      <td>531</td>\n",
       "      <td>1065</td>\n",
       "    </tr>\n",
       "  </tbody>\n",
       "</table>\n",
       "</div>"
      ],
      "text/plain": [
       "        State  Participation Rate  EBRW  Math  Total\n",
       "0     Alabama                0.07   583   560   1143\n",
       "1      Alaska                0.41   556   541   1097\n",
       "2     Arizona                0.31   569   565   1134\n",
       "3    Arkansas                0.06   582   559   1141\n",
       "4  California                0.63   534   531   1065"
      ]
     },
     "execution_count": 32,
     "metadata": {},
     "output_type": "execute_result"
    }
   ],
   "source": [
    "sat_state_2019.head()"
   ]
  },
  {
   "cell_type": "code",
   "execution_count": 33,
   "metadata": {},
   "outputs": [],
   "source": [
    "sat_state_2018['Participation'] = sat_state_2018['Participation'].map(clean_data)"
   ]
  },
  {
   "cell_type": "code",
   "execution_count": 34,
   "metadata": {},
   "outputs": [
    {
     "data": {
      "text/html": [
       "<div>\n",
       "<style scoped>\n",
       "    .dataframe tbody tr th:only-of-type {\n",
       "        vertical-align: middle;\n",
       "    }\n",
       "\n",
       "    .dataframe tbody tr th {\n",
       "        vertical-align: top;\n",
       "    }\n",
       "\n",
       "    .dataframe thead th {\n",
       "        text-align: right;\n",
       "    }\n",
       "</style>\n",
       "<table border=\"1\" class=\"dataframe\">\n",
       "  <thead>\n",
       "    <tr style=\"text-align: right;\">\n",
       "      <th></th>\n",
       "      <th>State</th>\n",
       "      <th>Participation</th>\n",
       "      <th>Evidence-Based Reading and Writing</th>\n",
       "      <th>Math</th>\n",
       "      <th>Total</th>\n",
       "    </tr>\n",
       "  </thead>\n",
       "  <tbody>\n",
       "    <tr>\n",
       "      <th>0</th>\n",
       "      <td>Alabama</td>\n",
       "      <td>0.06</td>\n",
       "      <td>595</td>\n",
       "      <td>571</td>\n",
       "      <td>1166</td>\n",
       "    </tr>\n",
       "    <tr>\n",
       "      <th>1</th>\n",
       "      <td>Alaska</td>\n",
       "      <td>0.43</td>\n",
       "      <td>562</td>\n",
       "      <td>544</td>\n",
       "      <td>1106</td>\n",
       "    </tr>\n",
       "    <tr>\n",
       "      <th>2</th>\n",
       "      <td>Arizona</td>\n",
       "      <td>0.29</td>\n",
       "      <td>577</td>\n",
       "      <td>572</td>\n",
       "      <td>1149</td>\n",
       "    </tr>\n",
       "    <tr>\n",
       "      <th>3</th>\n",
       "      <td>Arkansas</td>\n",
       "      <td>0.05</td>\n",
       "      <td>592</td>\n",
       "      <td>576</td>\n",
       "      <td>1169</td>\n",
       "    </tr>\n",
       "    <tr>\n",
       "      <th>4</th>\n",
       "      <td>California</td>\n",
       "      <td>0.60</td>\n",
       "      <td>540</td>\n",
       "      <td>536</td>\n",
       "      <td>1076</td>\n",
       "    </tr>\n",
       "  </tbody>\n",
       "</table>\n",
       "</div>"
      ],
      "text/plain": [
       "        State  Participation  Evidence-Based Reading and Writing  Math  Total\n",
       "0     Alabama           0.06                                 595   571   1166\n",
       "1      Alaska           0.43                                 562   544   1106\n",
       "2     Arizona           0.29                                 577   572   1149\n",
       "3    Arkansas           0.05                                 592   576   1169\n",
       "4  California           0.60                                 540   536   1076"
      ]
     },
     "execution_count": 34,
     "metadata": {},
     "output_type": "execute_result"
    }
   ],
   "source": [
    "sat_state_2018.head()"
   ]
  },
  {
   "cell_type": "code",
   "execution_count": 35,
   "metadata": {
    "scrolled": true
   },
   "outputs": [
    {
     "data": {
      "text/html": [
       "<div>\n",
       "<style scoped>\n",
       "    .dataframe tbody tr th:only-of-type {\n",
       "        vertical-align: middle;\n",
       "    }\n",
       "\n",
       "    .dataframe tbody tr th {\n",
       "        vertical-align: top;\n",
       "    }\n",
       "\n",
       "    .dataframe thead th {\n",
       "        text-align: right;\n",
       "    }\n",
       "</style>\n",
       "<table border=\"1\" class=\"dataframe\">\n",
       "  <thead>\n",
       "    <tr style=\"text-align: right;\">\n",
       "      <th></th>\n",
       "      <th>State</th>\n",
       "      <th>Participation</th>\n",
       "      <th>Evidence-Based Reading and Writing</th>\n",
       "      <th>Math</th>\n",
       "      <th>Total</th>\n",
       "    </tr>\n",
       "  </thead>\n",
       "  <tbody>\n",
       "    <tr>\n",
       "      <th>0</th>\n",
       "      <td>Alabama</td>\n",
       "      <td>0.05</td>\n",
       "      <td>593</td>\n",
       "      <td>572.0</td>\n",
       "      <td>1165</td>\n",
       "    </tr>\n",
       "    <tr>\n",
       "      <th>1</th>\n",
       "      <td>Alaska</td>\n",
       "      <td>0.38</td>\n",
       "      <td>547</td>\n",
       "      <td>533.0</td>\n",
       "      <td>1080</td>\n",
       "    </tr>\n",
       "    <tr>\n",
       "      <th>2</th>\n",
       "      <td>Arizona</td>\n",
       "      <td>0.30</td>\n",
       "      <td>563</td>\n",
       "      <td>553.0</td>\n",
       "      <td>1116</td>\n",
       "    </tr>\n",
       "    <tr>\n",
       "      <th>3</th>\n",
       "      <td>Arkansas</td>\n",
       "      <td>0.03</td>\n",
       "      <td>614</td>\n",
       "      <td>594.0</td>\n",
       "      <td>1208</td>\n",
       "    </tr>\n",
       "    <tr>\n",
       "      <th>4</th>\n",
       "      <td>California</td>\n",
       "      <td>0.53</td>\n",
       "      <td>531</td>\n",
       "      <td>524.0</td>\n",
       "      <td>1055</td>\n",
       "    </tr>\n",
       "  </tbody>\n",
       "</table>\n",
       "</div>"
      ],
      "text/plain": [
       "        State  Participation  Evidence-Based Reading and Writing   Math  Total\n",
       "0     Alabama           0.05                                 593  572.0   1165\n",
       "1      Alaska           0.38                                 547  533.0   1080\n",
       "2     Arizona           0.30                                 563  553.0   1116\n",
       "3    Arkansas           0.03                                 614  594.0   1208\n",
       "4  California           0.53                                 531  524.0   1055"
      ]
     },
     "execution_count": 35,
     "metadata": {},
     "output_type": "execute_result"
    }
   ],
   "source": [
    "sat_state_2017['Participation'] = sat_state_2017['Participation'].map(clean_data)\n",
    "sat_state_2017.head()"
   ]
  },
  {
   "cell_type": "code",
   "execution_count": 36,
   "metadata": {},
   "outputs": [],
   "source": [
    "# Remove the comma in TestTakers and make an int\n",
    "def clean_test_takers(test_takers):\n",
    "    cleaned_test_takers = test_takers.replace(',','')\n",
    "    return int(cleaned_test_takers)\n",
    "sat_major_2019['TestTakers'] = sat_major_2019['TestTakers'].map(clean_test_takers)"
   ]
  },
  {
   "cell_type": "code",
   "execution_count": 37,
   "metadata": {},
   "outputs": [
    {
     "data": {
      "text/html": [
       "<div>\n",
       "<style scoped>\n",
       "    .dataframe tbody tr th:only-of-type {\n",
       "        vertical-align: middle;\n",
       "    }\n",
       "\n",
       "    .dataframe tbody tr th {\n",
       "        vertical-align: top;\n",
       "    }\n",
       "\n",
       "    .dataframe thead th {\n",
       "        text-align: right;\n",
       "    }\n",
       "</style>\n",
       "<table border=\"1\" class=\"dataframe\">\n",
       "  <thead>\n",
       "    <tr style=\"text-align: right;\">\n",
       "      <th></th>\n",
       "      <th>IntendedCollegeMajor</th>\n",
       "      <th>TestTakers</th>\n",
       "      <th>Percent</th>\n",
       "      <th>Total</th>\n",
       "      <th>ReadingWriting</th>\n",
       "      <th>Math</th>\n",
       "    </tr>\n",
       "  </thead>\n",
       "  <tbody>\n",
       "    <tr>\n",
       "      <th>0</th>\n",
       "      <td>Agriculture, AgricultureOperations, and Relate...</td>\n",
       "      <td>24913</td>\n",
       "      <td>1%</td>\n",
       "      <td>977</td>\n",
       "      <td>496</td>\n",
       "      <td>481</td>\n",
       "    </tr>\n",
       "    <tr>\n",
       "      <th>1</th>\n",
       "      <td>Architecture and Related Services</td>\n",
       "      <td>28988</td>\n",
       "      <td>2%</td>\n",
       "      <td>1047</td>\n",
       "      <td>520</td>\n",
       "      <td>527</td>\n",
       "    </tr>\n",
       "    <tr>\n",
       "      <th>2</th>\n",
       "      <td>Area, Ethnic, Cultural, and Gender Studies</td>\n",
       "      <td>2629</td>\n",
       "      <td>0%</td>\n",
       "      <td>1040</td>\n",
       "      <td>536</td>\n",
       "      <td>504</td>\n",
       "    </tr>\n",
       "    <tr>\n",
       "      <th>3</th>\n",
       "      <td>Biological and Biomedical Sciences</td>\n",
       "      <td>155834</td>\n",
       "      <td>8%</td>\n",
       "      <td>1139</td>\n",
       "      <td>572</td>\n",
       "      <td>566</td>\n",
       "    </tr>\n",
       "    <tr>\n",
       "      <th>4</th>\n",
       "      <td>Business, Management, Marketing, and Related S...</td>\n",
       "      <td>221523</td>\n",
       "      <td>12%</td>\n",
       "      <td>1072</td>\n",
       "      <td>534</td>\n",
       "      <td>537</td>\n",
       "    </tr>\n",
       "  </tbody>\n",
       "</table>\n",
       "</div>"
      ],
      "text/plain": [
       "                                IntendedCollegeMajor  TestTakers Percent  \\\n",
       "0  Agriculture, AgricultureOperations, and Relate...       24913      1%   \n",
       "1                  Architecture and Related Services       28988      2%   \n",
       "2         Area, Ethnic, Cultural, and Gender Studies        2629      0%   \n",
       "3                 Biological and Biomedical Sciences      155834      8%   \n",
       "4  Business, Management, Marketing, and Related S...      221523     12%   \n",
       "\n",
       "   Total  ReadingWriting  Math  \n",
       "0    977             496   481  \n",
       "1   1047             520   527  \n",
       "2   1040             536   504  \n",
       "3   1139             572   566  \n",
       "4   1072             534   537  "
      ]
     },
     "execution_count": 37,
     "metadata": {},
     "output_type": "execute_result"
    }
   ],
   "source": [
    "sat_major_2019.head()"
   ]
  },
  {
   "cell_type": "code",
   "execution_count": 38,
   "metadata": {},
   "outputs": [
    {
     "data": {
      "text/plain": [
       "IntendedCollegeMajor    object\n",
       "TestTakers               int64\n",
       "Percent                 object\n",
       "Total                    int64\n",
       "ReadingWriting           int64\n",
       "Math                     int64\n",
       "dtype: object"
      ]
     },
     "execution_count": 38,
     "metadata": {},
     "output_type": "execute_result"
    }
   ],
   "source": [
    "sat_major_2019.dtypes"
   ]
  },
  {
   "cell_type": "code",
   "execution_count": 39,
   "metadata": {
    "scrolled": true
   },
   "outputs": [
    {
     "data": {
      "text/html": [
       "<div>\n",
       "<style scoped>\n",
       "    .dataframe tbody tr th:only-of-type {\n",
       "        vertical-align: middle;\n",
       "    }\n",
       "\n",
       "    .dataframe tbody tr th {\n",
       "        vertical-align: top;\n",
       "    }\n",
       "\n",
       "    .dataframe thead th {\n",
       "        text-align: right;\n",
       "    }\n",
       "</style>\n",
       "<table border=\"1\" class=\"dataframe\">\n",
       "  <thead>\n",
       "    <tr style=\"text-align: right;\">\n",
       "      <th></th>\n",
       "      <th>IntendedCollegeMajor</th>\n",
       "      <th>TestTakers</th>\n",
       "      <th>Percent</th>\n",
       "      <th>Total</th>\n",
       "      <th>ReadingWriting</th>\n",
       "      <th>Math</th>\n",
       "    </tr>\n",
       "  </thead>\n",
       "  <tbody>\n",
       "    <tr>\n",
       "      <th>0</th>\n",
       "      <td>Agriculture, AgricultureOperations, and Relate...</td>\n",
       "      <td>24913</td>\n",
       "      <td>0.01</td>\n",
       "      <td>977</td>\n",
       "      <td>496</td>\n",
       "      <td>481</td>\n",
       "    </tr>\n",
       "    <tr>\n",
       "      <th>1</th>\n",
       "      <td>Architecture and Related Services</td>\n",
       "      <td>28988</td>\n",
       "      <td>0.02</td>\n",
       "      <td>1047</td>\n",
       "      <td>520</td>\n",
       "      <td>527</td>\n",
       "    </tr>\n",
       "    <tr>\n",
       "      <th>2</th>\n",
       "      <td>Area, Ethnic, Cultural, and Gender Studies</td>\n",
       "      <td>2629</td>\n",
       "      <td>0.00</td>\n",
       "      <td>1040</td>\n",
       "      <td>536</td>\n",
       "      <td>504</td>\n",
       "    </tr>\n",
       "    <tr>\n",
       "      <th>3</th>\n",
       "      <td>Biological and Biomedical Sciences</td>\n",
       "      <td>155834</td>\n",
       "      <td>0.08</td>\n",
       "      <td>1139</td>\n",
       "      <td>572</td>\n",
       "      <td>566</td>\n",
       "    </tr>\n",
       "    <tr>\n",
       "      <th>4</th>\n",
       "      <td>Business, Management, Marketing, and Related S...</td>\n",
       "      <td>221523</td>\n",
       "      <td>0.12</td>\n",
       "      <td>1072</td>\n",
       "      <td>534</td>\n",
       "      <td>537</td>\n",
       "    </tr>\n",
       "  </tbody>\n",
       "</table>\n",
       "</div>"
      ],
      "text/plain": [
       "                                IntendedCollegeMajor  TestTakers  Percent  \\\n",
       "0  Agriculture, AgricultureOperations, and Relate...       24913     0.01   \n",
       "1                  Architecture and Related Services       28988     0.02   \n",
       "2         Area, Ethnic, Cultural, and Gender Studies        2629     0.00   \n",
       "3                 Biological and Biomedical Sciences      155834     0.08   \n",
       "4  Business, Management, Marketing, and Related S...      221523     0.12   \n",
       "\n",
       "   Total  ReadingWriting  Math  \n",
       "0    977             496   481  \n",
       "1   1047             520   527  \n",
       "2   1040             536   504  \n",
       "3   1139             572   566  \n",
       "4   1072             534   537  "
      ]
     },
     "execution_count": 39,
     "metadata": {},
     "output_type": "execute_result"
    }
   ],
   "source": [
    "sat_major_2019['Percent'] = sat_major_2019['Percent'].map(clean_data)\n",
    "sat_major_2019.head()"
   ]
  },
  {
   "cell_type": "code",
   "execution_count": 40,
   "metadata": {
    "scrolled": true
   },
   "outputs": [
    {
     "data": {
      "text/plain": [
       "IntendedCollegeMajor     object\n",
       "TestTakers                int64\n",
       "Percent                 float64\n",
       "Total                     int64\n",
       "ReadingWriting            int64\n",
       "Math                      int64\n",
       "dtype: object"
      ]
     },
     "execution_count": 40,
     "metadata": {},
     "output_type": "execute_result"
    }
   ],
   "source": [
    "sat_major_2019.dtypes"
   ]
  },
  {
   "cell_type": "code",
   "execution_count": 41,
   "metadata": {},
   "outputs": [
    {
     "data": {
      "text/plain": [
       "State                                  object\n",
       "Participation                         float64\n",
       "Evidence-Based Reading and Writing      int64\n",
       "Math                                  float64\n",
       "Total                                   int64\n",
       "dtype: object"
      ]
     },
     "execution_count": 41,
     "metadata": {},
     "output_type": "execute_result"
    }
   ],
   "source": [
    "sat_state_2017.dtypes"
   ]
  },
  {
   "cell_type": "code",
   "execution_count": 42,
   "metadata": {},
   "outputs": [
    {
     "data": {
      "text/plain": [
       "State                                  object\n",
       "Participation                         float64\n",
       "Evidence-Based Reading and Writing      int64\n",
       "Math                                    int64\n",
       "Total                                   int64\n",
       "dtype: object"
      ]
     },
     "execution_count": 42,
     "metadata": {},
     "output_type": "execute_result"
    }
   ],
   "source": [
    "sat_state_2018.dtypes"
   ]
  },
  {
   "cell_type": "code",
   "execution_count": 43,
   "metadata": {},
   "outputs": [
    {
     "data": {
      "text/plain": [
       "State                  object\n",
       "Participation Rate    float64\n",
       "EBRW                    int64\n",
       "Math                    int64\n",
       "Total                   int64\n",
       "dtype: object"
      ]
     },
     "execution_count": 43,
     "metadata": {},
     "output_type": "execute_result"
    }
   ],
   "source": [
    "sat_state_2019.dtypes"
   ]
  },
  {
   "cell_type": "markdown",
   "metadata": {},
   "source": [
    "#### Rename Columns"
   ]
  },
  {
   "cell_type": "code",
   "execution_count": 44,
   "metadata": {},
   "outputs": [],
   "source": [
    "new_columns_dict = {\n",
    "    'IntendedCollegeMajor': 'intended_college_major',\n",
    "    'TestTakers': 'major_test_takers',\n",
    "    'Percent': 'major_percent',\n",
    "    'Total': 'major_total',\n",
    "    'ReadingWriting': 'major_english',\n",
    "    'Math': 'major_math'\n",
    "}\n",
    "sat_major_2019.rename(columns=new_columns_dict, inplace=True)"
   ]
  },
  {
   "cell_type": "code",
   "execution_count": 45,
   "metadata": {
    "scrolled": true
   },
   "outputs": [
    {
     "data": {
      "text/html": [
       "<div>\n",
       "<style scoped>\n",
       "    .dataframe tbody tr th:only-of-type {\n",
       "        vertical-align: middle;\n",
       "    }\n",
       "\n",
       "    .dataframe tbody tr th {\n",
       "        vertical-align: top;\n",
       "    }\n",
       "\n",
       "    .dataframe thead th {\n",
       "        text-align: right;\n",
       "    }\n",
       "</style>\n",
       "<table border=\"1\" class=\"dataframe\">\n",
       "  <thead>\n",
       "    <tr style=\"text-align: right;\">\n",
       "      <th></th>\n",
       "      <th>intended_college_major</th>\n",
       "      <th>major_test_takers</th>\n",
       "      <th>major_percent</th>\n",
       "      <th>major_total</th>\n",
       "      <th>major_english</th>\n",
       "      <th>major_math</th>\n",
       "    </tr>\n",
       "  </thead>\n",
       "  <tbody>\n",
       "    <tr>\n",
       "      <th>0</th>\n",
       "      <td>Agriculture, AgricultureOperations, and Relate...</td>\n",
       "      <td>24913</td>\n",
       "      <td>0.01</td>\n",
       "      <td>977</td>\n",
       "      <td>496</td>\n",
       "      <td>481</td>\n",
       "    </tr>\n",
       "    <tr>\n",
       "      <th>1</th>\n",
       "      <td>Architecture and Related Services</td>\n",
       "      <td>28988</td>\n",
       "      <td>0.02</td>\n",
       "      <td>1047</td>\n",
       "      <td>520</td>\n",
       "      <td>527</td>\n",
       "    </tr>\n",
       "    <tr>\n",
       "      <th>2</th>\n",
       "      <td>Area, Ethnic, Cultural, and Gender Studies</td>\n",
       "      <td>2629</td>\n",
       "      <td>0.00</td>\n",
       "      <td>1040</td>\n",
       "      <td>536</td>\n",
       "      <td>504</td>\n",
       "    </tr>\n",
       "    <tr>\n",
       "      <th>3</th>\n",
       "      <td>Biological and Biomedical Sciences</td>\n",
       "      <td>155834</td>\n",
       "      <td>0.08</td>\n",
       "      <td>1139</td>\n",
       "      <td>572</td>\n",
       "      <td>566</td>\n",
       "    </tr>\n",
       "    <tr>\n",
       "      <th>4</th>\n",
       "      <td>Business, Management, Marketing, and Related S...</td>\n",
       "      <td>221523</td>\n",
       "      <td>0.12</td>\n",
       "      <td>1072</td>\n",
       "      <td>534</td>\n",
       "      <td>537</td>\n",
       "    </tr>\n",
       "  </tbody>\n",
       "</table>\n",
       "</div>"
      ],
      "text/plain": [
       "                              intended_college_major  major_test_takers  \\\n",
       "0  Agriculture, AgricultureOperations, and Relate...              24913   \n",
       "1                  Architecture and Related Services              28988   \n",
       "2         Area, Ethnic, Cultural, and Gender Studies               2629   \n",
       "3                 Biological and Biomedical Sciences             155834   \n",
       "4  Business, Management, Marketing, and Related S...             221523   \n",
       "\n",
       "   major_percent  major_total  major_english  major_math  \n",
       "0           0.01          977            496         481  \n",
       "1           0.02         1047            520         527  \n",
       "2           0.00         1040            536         504  \n",
       "3           0.08         1139            572         566  \n",
       "4           0.12         1072            534         537  "
      ]
     },
     "execution_count": 45,
     "metadata": {},
     "output_type": "execute_result"
    }
   ],
   "source": [
    "sat_major_2019.head()"
   ]
  },
  {
   "cell_type": "code",
   "execution_count": 46,
   "metadata": {},
   "outputs": [],
   "source": [
    "new_columns_dict_2 = {\n",
    "    'State': 'state',\n",
    "    'Participation': 'participation_2017',\n",
    "    'Evidence-Based Reading and Writing': 'english_2017',\n",
    "    'Total': 'total_2017',\n",
    "    'Math': 'math_2017'\n",
    "}\n",
    "sat_state_2017.rename(columns=new_columns_dict_2, inplace=True)"
   ]
  },
  {
   "cell_type": "code",
   "execution_count": 47,
   "metadata": {},
   "outputs": [
    {
     "data": {
      "text/html": [
       "<div>\n",
       "<style scoped>\n",
       "    .dataframe tbody tr th:only-of-type {\n",
       "        vertical-align: middle;\n",
       "    }\n",
       "\n",
       "    .dataframe tbody tr th {\n",
       "        vertical-align: top;\n",
       "    }\n",
       "\n",
       "    .dataframe thead th {\n",
       "        text-align: right;\n",
       "    }\n",
       "</style>\n",
       "<table border=\"1\" class=\"dataframe\">\n",
       "  <thead>\n",
       "    <tr style=\"text-align: right;\">\n",
       "      <th></th>\n",
       "      <th>state</th>\n",
       "      <th>participation_2017</th>\n",
       "      <th>english_2017</th>\n",
       "      <th>math_2017</th>\n",
       "      <th>total_2017</th>\n",
       "    </tr>\n",
       "  </thead>\n",
       "  <tbody>\n",
       "    <tr>\n",
       "      <th>0</th>\n",
       "      <td>Alabama</td>\n",
       "      <td>0.05</td>\n",
       "      <td>593</td>\n",
       "      <td>572.0</td>\n",
       "      <td>1165</td>\n",
       "    </tr>\n",
       "    <tr>\n",
       "      <th>1</th>\n",
       "      <td>Alaska</td>\n",
       "      <td>0.38</td>\n",
       "      <td>547</td>\n",
       "      <td>533.0</td>\n",
       "      <td>1080</td>\n",
       "    </tr>\n",
       "    <tr>\n",
       "      <th>2</th>\n",
       "      <td>Arizona</td>\n",
       "      <td>0.30</td>\n",
       "      <td>563</td>\n",
       "      <td>553.0</td>\n",
       "      <td>1116</td>\n",
       "    </tr>\n",
       "  </tbody>\n",
       "</table>\n",
       "</div>"
      ],
      "text/plain": [
       "     state  participation_2017  english_2017  math_2017  total_2017\n",
       "0  Alabama                0.05           593      572.0        1165\n",
       "1   Alaska                0.38           547      533.0        1080\n",
       "2  Arizona                0.30           563      553.0        1116"
      ]
     },
     "execution_count": 47,
     "metadata": {},
     "output_type": "execute_result"
    }
   ],
   "source": [
    "sat_state_2017.head(3)"
   ]
  },
  {
   "cell_type": "code",
   "execution_count": 48,
   "metadata": {},
   "outputs": [],
   "source": [
    "new_columns_dict_3 = {\n",
    "    'State': 'state',\n",
    "    'Participation': 'participation_2018',\n",
    "    'Evidence-Based Reading and Writing': 'english_2018',\n",
    "    'Total': 'total_2018',\n",
    "    'Math': 'math_2018'\n",
    "}\n",
    "sat_state_2018.rename(columns=new_columns_dict_3, inplace=True)"
   ]
  },
  {
   "cell_type": "code",
   "execution_count": 49,
   "metadata": {
    "scrolled": true
   },
   "outputs": [
    {
     "data": {
      "text/html": [
       "<div>\n",
       "<style scoped>\n",
       "    .dataframe tbody tr th:only-of-type {\n",
       "        vertical-align: middle;\n",
       "    }\n",
       "\n",
       "    .dataframe tbody tr th {\n",
       "        vertical-align: top;\n",
       "    }\n",
       "\n",
       "    .dataframe thead th {\n",
       "        text-align: right;\n",
       "    }\n",
       "</style>\n",
       "<table border=\"1\" class=\"dataframe\">\n",
       "  <thead>\n",
       "    <tr style=\"text-align: right;\">\n",
       "      <th></th>\n",
       "      <th>state</th>\n",
       "      <th>participation_2018</th>\n",
       "      <th>english_2018</th>\n",
       "      <th>math_2018</th>\n",
       "      <th>total_2018</th>\n",
       "    </tr>\n",
       "  </thead>\n",
       "  <tbody>\n",
       "    <tr>\n",
       "      <th>0</th>\n",
       "      <td>Alabama</td>\n",
       "      <td>0.06</td>\n",
       "      <td>595</td>\n",
       "      <td>571</td>\n",
       "      <td>1166</td>\n",
       "    </tr>\n",
       "    <tr>\n",
       "      <th>1</th>\n",
       "      <td>Alaska</td>\n",
       "      <td>0.43</td>\n",
       "      <td>562</td>\n",
       "      <td>544</td>\n",
       "      <td>1106</td>\n",
       "    </tr>\n",
       "    <tr>\n",
       "      <th>2</th>\n",
       "      <td>Arizona</td>\n",
       "      <td>0.29</td>\n",
       "      <td>577</td>\n",
       "      <td>572</td>\n",
       "      <td>1149</td>\n",
       "    </tr>\n",
       "  </tbody>\n",
       "</table>\n",
       "</div>"
      ],
      "text/plain": [
       "     state  participation_2018  english_2018  math_2018  total_2018\n",
       "0  Alabama                0.06           595        571        1166\n",
       "1   Alaska                0.43           562        544        1106\n",
       "2  Arizona                0.29           577        572        1149"
      ]
     },
     "execution_count": 49,
     "metadata": {},
     "output_type": "execute_result"
    }
   ],
   "source": [
    "sat_state_2018.head(3)"
   ]
  },
  {
   "cell_type": "code",
   "execution_count": 50,
   "metadata": {},
   "outputs": [],
   "source": [
    "new_columns_dict_4 = {\n",
    "    'State': 'state',\n",
    "    'Participation Rate': 'participation_2019',\n",
    "    'EBRW': 'english_2019',\n",
    "    'Total': 'total_2019',\n",
    "    'Math': 'math_2019'\n",
    "}\n",
    "sat_state_2019.rename(columns=new_columns_dict_4, inplace=True)"
   ]
  },
  {
   "cell_type": "code",
   "execution_count": 51,
   "metadata": {},
   "outputs": [
    {
     "data": {
      "text/html": [
       "<div>\n",
       "<style scoped>\n",
       "    .dataframe tbody tr th:only-of-type {\n",
       "        vertical-align: middle;\n",
       "    }\n",
       "\n",
       "    .dataframe tbody tr th {\n",
       "        vertical-align: top;\n",
       "    }\n",
       "\n",
       "    .dataframe thead th {\n",
       "        text-align: right;\n",
       "    }\n",
       "</style>\n",
       "<table border=\"1\" class=\"dataframe\">\n",
       "  <thead>\n",
       "    <tr style=\"text-align: right;\">\n",
       "      <th></th>\n",
       "      <th>state</th>\n",
       "      <th>participation_2019</th>\n",
       "      <th>english_2019</th>\n",
       "      <th>math_2019</th>\n",
       "      <th>total_2019</th>\n",
       "    </tr>\n",
       "  </thead>\n",
       "  <tbody>\n",
       "    <tr>\n",
       "      <th>0</th>\n",
       "      <td>Alabama</td>\n",
       "      <td>0.07</td>\n",
       "      <td>583</td>\n",
       "      <td>560</td>\n",
       "      <td>1143</td>\n",
       "    </tr>\n",
       "    <tr>\n",
       "      <th>1</th>\n",
       "      <td>Alaska</td>\n",
       "      <td>0.41</td>\n",
       "      <td>556</td>\n",
       "      <td>541</td>\n",
       "      <td>1097</td>\n",
       "    </tr>\n",
       "    <tr>\n",
       "      <th>2</th>\n",
       "      <td>Arizona</td>\n",
       "      <td>0.31</td>\n",
       "      <td>569</td>\n",
       "      <td>565</td>\n",
       "      <td>1134</td>\n",
       "    </tr>\n",
       "  </tbody>\n",
       "</table>\n",
       "</div>"
      ],
      "text/plain": [
       "     state  participation_2019  english_2019  math_2019  total_2019\n",
       "0  Alabama                0.07           583        560        1143\n",
       "1   Alaska                0.41           556        541        1097\n",
       "2  Arizona                0.31           569        565        1134"
      ]
     },
     "execution_count": 51,
     "metadata": {},
     "output_type": "execute_result"
    }
   ],
   "source": [
    "sat_state_2019.head(3)"
   ]
  },
  {
   "cell_type": "markdown",
   "metadata": {},
   "source": [
    "#### I will drop the Other and Undecided majors because I am classifying majors into vocational and not. Unknown/other majors don't fit with my focus on major type."
   ]
  },
  {
   "cell_type": "code",
   "execution_count": 52,
   "metadata": {},
   "outputs": [],
   "source": [
    "sat_major_2019.drop([36, 37], inplace=True)"
   ]
  },
  {
   "cell_type": "code",
   "execution_count": 53,
   "metadata": {},
   "outputs": [
    {
     "data": {
      "text/html": [
       "<div>\n",
       "<style scoped>\n",
       "    .dataframe tbody tr th:only-of-type {\n",
       "        vertical-align: middle;\n",
       "    }\n",
       "\n",
       "    .dataframe tbody tr th {\n",
       "        vertical-align: top;\n",
       "    }\n",
       "\n",
       "    .dataframe thead th {\n",
       "        text-align: right;\n",
       "    }\n",
       "</style>\n",
       "<table border=\"1\" class=\"dataframe\">\n",
       "  <thead>\n",
       "    <tr style=\"text-align: right;\">\n",
       "      <th></th>\n",
       "      <th>intended_college_major</th>\n",
       "      <th>major_test_takers</th>\n",
       "      <th>major_percent</th>\n",
       "      <th>major_total</th>\n",
       "      <th>major_english</th>\n",
       "      <th>major_math</th>\n",
       "    </tr>\n",
       "  </thead>\n",
       "  <tbody>\n",
       "    <tr>\n",
       "      <th>0</th>\n",
       "      <td>Agriculture, AgricultureOperations, and Relate...</td>\n",
       "      <td>24913</td>\n",
       "      <td>0.01</td>\n",
       "      <td>977</td>\n",
       "      <td>496</td>\n",
       "      <td>481</td>\n",
       "    </tr>\n",
       "    <tr>\n",
       "      <th>1</th>\n",
       "      <td>Architecture and Related Services</td>\n",
       "      <td>28988</td>\n",
       "      <td>0.02</td>\n",
       "      <td>1047</td>\n",
       "      <td>520</td>\n",
       "      <td>527</td>\n",
       "    </tr>\n",
       "    <tr>\n",
       "      <th>2</th>\n",
       "      <td>Area, Ethnic, Cultural, and Gender Studies</td>\n",
       "      <td>2629</td>\n",
       "      <td>0.00</td>\n",
       "      <td>1040</td>\n",
       "      <td>536</td>\n",
       "      <td>504</td>\n",
       "    </tr>\n",
       "    <tr>\n",
       "      <th>3</th>\n",
       "      <td>Biological and Biomedical Sciences</td>\n",
       "      <td>155834</td>\n",
       "      <td>0.08</td>\n",
       "      <td>1139</td>\n",
       "      <td>572</td>\n",
       "      <td>566</td>\n",
       "    </tr>\n",
       "    <tr>\n",
       "      <th>4</th>\n",
       "      <td>Business, Management, Marketing, and Related S...</td>\n",
       "      <td>221523</td>\n",
       "      <td>0.12</td>\n",
       "      <td>1072</td>\n",
       "      <td>534</td>\n",
       "      <td>537</td>\n",
       "    </tr>\n",
       "    <tr>\n",
       "      <th>5</th>\n",
       "      <td>Communication, Journalism, and Related Programs</td>\n",
       "      <td>36332</td>\n",
       "      <td>0.02</td>\n",
       "      <td>1069</td>\n",
       "      <td>550</td>\n",
       "      <td>519</td>\n",
       "    </tr>\n",
       "    <tr>\n",
       "      <th>6</th>\n",
       "      <td>Computer and Information Sciences and Support ...</td>\n",
       "      <td>79736</td>\n",
       "      <td>0.04</td>\n",
       "      <td>1156</td>\n",
       "      <td>571</td>\n",
       "      <td>585</td>\n",
       "    </tr>\n",
       "    <tr>\n",
       "      <th>7</th>\n",
       "      <td>Construction Trades, General</td>\n",
       "      <td>2500</td>\n",
       "      <td>0.00</td>\n",
       "      <td>919</td>\n",
       "      <td>459</td>\n",
       "      <td>460</td>\n",
       "    </tr>\n",
       "    <tr>\n",
       "      <th>8</th>\n",
       "      <td>Education</td>\n",
       "      <td>71882</td>\n",
       "      <td>0.04</td>\n",
       "      <td>1022</td>\n",
       "      <td>519</td>\n",
       "      <td>503</td>\n",
       "    </tr>\n",
       "    <tr>\n",
       "      <th>9</th>\n",
       "      <td>Engineering</td>\n",
       "      <td>194127</td>\n",
       "      <td>0.11</td>\n",
       "      <td>1139</td>\n",
       "      <td>559</td>\n",
       "      <td>581</td>\n",
       "    </tr>\n",
       "    <tr>\n",
       "      <th>10</th>\n",
       "      <td>Engineering Technologies/Technicians</td>\n",
       "      <td>33595</td>\n",
       "      <td>0.02</td>\n",
       "      <td>1041</td>\n",
       "      <td>512</td>\n",
       "      <td>528</td>\n",
       "    </tr>\n",
       "    <tr>\n",
       "      <th>11</th>\n",
       "      <td>English Language and Literature/Letters</td>\n",
       "      <td>16233</td>\n",
       "      <td>0.01</td>\n",
       "      <td>1119</td>\n",
       "      <td>585</td>\n",
       "      <td>533</td>\n",
       "    </tr>\n",
       "    <tr>\n",
       "      <th>12</th>\n",
       "      <td>Family and Consumer Sciences/Human Sciences</td>\n",
       "      <td>6469</td>\n",
       "      <td>0.00</td>\n",
       "      <td>953</td>\n",
       "      <td>484</td>\n",
       "      <td>469</td>\n",
       "    </tr>\n",
       "    <tr>\n",
       "      <th>13</th>\n",
       "      <td>Foreign Languages and Literatures, General</td>\n",
       "      <td>9936</td>\n",
       "      <td>0.01</td>\n",
       "      <td>1102</td>\n",
       "      <td>566</td>\n",
       "      <td>536</td>\n",
       "    </tr>\n",
       "    <tr>\n",
       "      <th>14</th>\n",
       "      <td>Health Professions and related Clinical Sciences</td>\n",
       "      <td>331026</td>\n",
       "      <td>0.18</td>\n",
       "      <td>1048</td>\n",
       "      <td>529</td>\n",
       "      <td>518</td>\n",
       "    </tr>\n",
       "    <tr>\n",
       "      <th>15</th>\n",
       "      <td>History, General</td>\n",
       "      <td>12611</td>\n",
       "      <td>0.01</td>\n",
       "      <td>1090</td>\n",
       "      <td>563</td>\n",
       "      <td>527</td>\n",
       "    </tr>\n",
       "    <tr>\n",
       "      <th>16</th>\n",
       "      <td>Legal Studies, General</td>\n",
       "      <td>35788</td>\n",
       "      <td>0.02</td>\n",
       "      <td>1104</td>\n",
       "      <td>564</td>\n",
       "      <td>540</td>\n",
       "    </tr>\n",
       "    <tr>\n",
       "      <th>17</th>\n",
       "      <td>Liberal Arts and Sciences, General Studies and...</td>\n",
       "      <td>8611</td>\n",
       "      <td>0.00</td>\n",
       "      <td>1140</td>\n",
       "      <td>584</td>\n",
       "      <td>556</td>\n",
       "    </tr>\n",
       "    <tr>\n",
       "      <th>18</th>\n",
       "      <td>Library Science/Librarianship</td>\n",
       "      <td>283</td>\n",
       "      <td>0.00</td>\n",
       "      <td>1105</td>\n",
       "      <td>577</td>\n",
       "      <td>527</td>\n",
       "    </tr>\n",
       "    <tr>\n",
       "      <th>19</th>\n",
       "      <td>Mathematics and Statistics</td>\n",
       "      <td>16508</td>\n",
       "      <td>0.01</td>\n",
       "      <td>1242</td>\n",
       "      <td>597</td>\n",
       "      <td>646</td>\n",
       "    </tr>\n",
       "    <tr>\n",
       "      <th>20</th>\n",
       "      <td>Mechanic and Repair Technologies/Technicians</td>\n",
       "      <td>6592</td>\n",
       "      <td>0.00</td>\n",
       "      <td>916</td>\n",
       "      <td>458</td>\n",
       "      <td>458</td>\n",
       "    </tr>\n",
       "    <tr>\n",
       "      <th>21</th>\n",
       "      <td>Military Technologies</td>\n",
       "      <td>7448</td>\n",
       "      <td>0.00</td>\n",
       "      <td>984</td>\n",
       "      <td>498</td>\n",
       "      <td>486</td>\n",
       "    </tr>\n",
       "    <tr>\n",
       "      <th>22</th>\n",
       "      <td>Multi/Interdisciplinary Studies</td>\n",
       "      <td>2979</td>\n",
       "      <td>0.00</td>\n",
       "      <td>1155</td>\n",
       "      <td>581</td>\n",
       "      <td>574</td>\n",
       "    </tr>\n",
       "    <tr>\n",
       "      <th>23</th>\n",
       "      <td>Natural resources and Conservation</td>\n",
       "      <td>10147</td>\n",
       "      <td>0.01</td>\n",
       "      <td>1104</td>\n",
       "      <td>562</td>\n",
       "      <td>543</td>\n",
       "    </tr>\n",
       "    <tr>\n",
       "      <th>24</th>\n",
       "      <td>Parks, Recreation and Leisure Studies</td>\n",
       "      <td>13039</td>\n",
       "      <td>0.01</td>\n",
       "      <td>960</td>\n",
       "      <td>482</td>\n",
       "      <td>478</td>\n",
       "    </tr>\n",
       "    <tr>\n",
       "      <th>25</th>\n",
       "      <td>Personal and Culinary Services, General</td>\n",
       "      <td>6668</td>\n",
       "      <td>0.00</td>\n",
       "      <td>929</td>\n",
       "      <td>474</td>\n",
       "      <td>456</td>\n",
       "    </tr>\n",
       "    <tr>\n",
       "      <th>26</th>\n",
       "      <td>Philosophy and Religious Studies</td>\n",
       "      <td>3381</td>\n",
       "      <td>0.00</td>\n",
       "      <td>1120</td>\n",
       "      <td>572</td>\n",
       "      <td>548</td>\n",
       "    </tr>\n",
       "    <tr>\n",
       "      <th>27</th>\n",
       "      <td>Physical Sciences</td>\n",
       "      <td>26318</td>\n",
       "      <td>0.01</td>\n",
       "      <td>1203</td>\n",
       "      <td>597</td>\n",
       "      <td>606</td>\n",
       "    </tr>\n",
       "    <tr>\n",
       "      <th>28</th>\n",
       "      <td>Precision Production</td>\n",
       "      <td>319</td>\n",
       "      <td>0.00</td>\n",
       "      <td>932</td>\n",
       "      <td>466</td>\n",
       "      <td>466</td>\n",
       "    </tr>\n",
       "    <tr>\n",
       "      <th>29</th>\n",
       "      <td>Psychology, General</td>\n",
       "      <td>75626</td>\n",
       "      <td>0.04</td>\n",
       "      <td>1064</td>\n",
       "      <td>546</td>\n",
       "      <td>518</td>\n",
       "    </tr>\n",
       "    <tr>\n",
       "      <th>30</th>\n",
       "      <td>Public Administration and Social Service Profe...</td>\n",
       "      <td>7852</td>\n",
       "      <td>0.00</td>\n",
       "      <td>1001</td>\n",
       "      <td>513</td>\n",
       "      <td>488</td>\n",
       "    </tr>\n",
       "    <tr>\n",
       "      <th>31</th>\n",
       "      <td>Security and Protective Services</td>\n",
       "      <td>68177</td>\n",
       "      <td>0.04</td>\n",
       "      <td>975</td>\n",
       "      <td>495</td>\n",
       "      <td>479</td>\n",
       "    </tr>\n",
       "    <tr>\n",
       "      <th>32</th>\n",
       "      <td>Social Sciences</td>\n",
       "      <td>33356</td>\n",
       "      <td>0.02</td>\n",
       "      <td>1164</td>\n",
       "      <td>594</td>\n",
       "      <td>570</td>\n",
       "    </tr>\n",
       "    <tr>\n",
       "      <th>33</th>\n",
       "      <td>Theology and Religious Vocations</td>\n",
       "      <td>1991</td>\n",
       "      <td>0.00</td>\n",
       "      <td>1096</td>\n",
       "      <td>561</td>\n",
       "      <td>535</td>\n",
       "    </tr>\n",
       "    <tr>\n",
       "      <th>34</th>\n",
       "      <td>Transportation and Materials Moving</td>\n",
       "      <td>1105</td>\n",
       "      <td>0.00</td>\n",
       "      <td>1019</td>\n",
       "      <td>511</td>\n",
       "      <td>508</td>\n",
       "    </tr>\n",
       "    <tr>\n",
       "      <th>35</th>\n",
       "      <td>Visual and Performing Arts, General</td>\n",
       "      <td>130642</td>\n",
       "      <td>0.07</td>\n",
       "      <td>1045</td>\n",
       "      <td>536</td>\n",
       "      <td>510</td>\n",
       "    </tr>\n",
       "  </tbody>\n",
       "</table>\n",
       "</div>"
      ],
      "text/plain": [
       "                               intended_college_major  major_test_takers  \\\n",
       "0   Agriculture, AgricultureOperations, and Relate...              24913   \n",
       "1                   Architecture and Related Services              28988   \n",
       "2          Area, Ethnic, Cultural, and Gender Studies               2629   \n",
       "3                  Biological and Biomedical Sciences             155834   \n",
       "4   Business, Management, Marketing, and Related S...             221523   \n",
       "5     Communication, Journalism, and Related Programs              36332   \n",
       "6   Computer and Information Sciences and Support ...              79736   \n",
       "7                        Construction Trades, General               2500   \n",
       "8                                           Education              71882   \n",
       "9                                         Engineering             194127   \n",
       "10               Engineering Technologies/Technicians              33595   \n",
       "11            English Language and Literature/Letters              16233   \n",
       "12        Family and Consumer Sciences/Human Sciences               6469   \n",
       "13         Foreign Languages and Literatures, General               9936   \n",
       "14   Health Professions and related Clinical Sciences             331026   \n",
       "15                                   History, General              12611   \n",
       "16                             Legal Studies, General              35788   \n",
       "17  Liberal Arts and Sciences, General Studies and...               8611   \n",
       "18                      Library Science/Librarianship                283   \n",
       "19                         Mathematics and Statistics              16508   \n",
       "20       Mechanic and Repair Technologies/Technicians               6592   \n",
       "21                              Military Technologies               7448   \n",
       "22                    Multi/Interdisciplinary Studies               2979   \n",
       "23                 Natural resources and Conservation              10147   \n",
       "24              Parks, Recreation and Leisure Studies              13039   \n",
       "25            Personal and Culinary Services, General               6668   \n",
       "26                   Philosophy and Religious Studies               3381   \n",
       "27                                  Physical Sciences              26318   \n",
       "28                               Precision Production                319   \n",
       "29                                Psychology, General              75626   \n",
       "30  Public Administration and Social Service Profe...               7852   \n",
       "31                   Security and Protective Services              68177   \n",
       "32                                    Social Sciences              33356   \n",
       "33                   Theology and Religious Vocations               1991   \n",
       "34                Transportation and Materials Moving               1105   \n",
       "35                Visual and Performing Arts, General             130642   \n",
       "\n",
       "    major_percent  major_total  major_english  major_math  \n",
       "0            0.01          977            496         481  \n",
       "1            0.02         1047            520         527  \n",
       "2            0.00         1040            536         504  \n",
       "3            0.08         1139            572         566  \n",
       "4            0.12         1072            534         537  \n",
       "5            0.02         1069            550         519  \n",
       "6            0.04         1156            571         585  \n",
       "7            0.00          919            459         460  \n",
       "8            0.04         1022            519         503  \n",
       "9            0.11         1139            559         581  \n",
       "10           0.02         1041            512         528  \n",
       "11           0.01         1119            585         533  \n",
       "12           0.00          953            484         469  \n",
       "13           0.01         1102            566         536  \n",
       "14           0.18         1048            529         518  \n",
       "15           0.01         1090            563         527  \n",
       "16           0.02         1104            564         540  \n",
       "17           0.00         1140            584         556  \n",
       "18           0.00         1105            577         527  \n",
       "19           0.01         1242            597         646  \n",
       "20           0.00          916            458         458  \n",
       "21           0.00          984            498         486  \n",
       "22           0.00         1155            581         574  \n",
       "23           0.01         1104            562         543  \n",
       "24           0.01          960            482         478  \n",
       "25           0.00          929            474         456  \n",
       "26           0.00         1120            572         548  \n",
       "27           0.01         1203            597         606  \n",
       "28           0.00          932            466         466  \n",
       "29           0.04         1064            546         518  \n",
       "30           0.00         1001            513         488  \n",
       "31           0.04          975            495         479  \n",
       "32           0.02         1164            594         570  \n",
       "33           0.00         1096            561         535  \n",
       "34           0.00         1019            511         508  \n",
       "35           0.07         1045            536         510  "
      ]
     },
     "execution_count": 53,
     "metadata": {},
     "output_type": "execute_result"
    }
   ],
   "source": [
    "sat_major_2019"
   ]
  },
  {
   "cell_type": "markdown",
   "metadata": {},
   "source": [
    "#### Merge dataframes that can be merged"
   ]
  },
  {
   "cell_type": "code",
   "execution_count": 54,
   "metadata": {},
   "outputs": [],
   "source": [
    "two_year_state_level_data = pd.merge(sat_state_2019, sat_state_2018, on='state')"
   ]
  },
  {
   "cell_type": "code",
   "execution_count": 55,
   "metadata": {},
   "outputs": [
    {
     "data": {
      "text/html": [
       "<div>\n",
       "<style scoped>\n",
       "    .dataframe tbody tr th:only-of-type {\n",
       "        vertical-align: middle;\n",
       "    }\n",
       "\n",
       "    .dataframe tbody tr th {\n",
       "        vertical-align: top;\n",
       "    }\n",
       "\n",
       "    .dataframe thead th {\n",
       "        text-align: right;\n",
       "    }\n",
       "</style>\n",
       "<table border=\"1\" class=\"dataframe\">\n",
       "  <thead>\n",
       "    <tr style=\"text-align: right;\">\n",
       "      <th></th>\n",
       "      <th>state</th>\n",
       "      <th>participation_2019</th>\n",
       "      <th>english_2019</th>\n",
       "      <th>math_2019</th>\n",
       "      <th>total_2019</th>\n",
       "      <th>participation_2018</th>\n",
       "      <th>english_2018</th>\n",
       "      <th>math_2018</th>\n",
       "      <th>total_2018</th>\n",
       "    </tr>\n",
       "  </thead>\n",
       "  <tbody>\n",
       "    <tr>\n",
       "      <th>0</th>\n",
       "      <td>Alabama</td>\n",
       "      <td>0.07</td>\n",
       "      <td>583</td>\n",
       "      <td>560</td>\n",
       "      <td>1143</td>\n",
       "      <td>0.06</td>\n",
       "      <td>595</td>\n",
       "      <td>571</td>\n",
       "      <td>1166</td>\n",
       "    </tr>\n",
       "    <tr>\n",
       "      <th>1</th>\n",
       "      <td>Alaska</td>\n",
       "      <td>0.41</td>\n",
       "      <td>556</td>\n",
       "      <td>541</td>\n",
       "      <td>1097</td>\n",
       "      <td>0.43</td>\n",
       "      <td>562</td>\n",
       "      <td>544</td>\n",
       "      <td>1106</td>\n",
       "    </tr>\n",
       "    <tr>\n",
       "      <th>2</th>\n",
       "      <td>Arizona</td>\n",
       "      <td>0.31</td>\n",
       "      <td>569</td>\n",
       "      <td>565</td>\n",
       "      <td>1134</td>\n",
       "      <td>0.29</td>\n",
       "      <td>577</td>\n",
       "      <td>572</td>\n",
       "      <td>1149</td>\n",
       "    </tr>\n",
       "    <tr>\n",
       "      <th>3</th>\n",
       "      <td>Arkansas</td>\n",
       "      <td>0.06</td>\n",
       "      <td>582</td>\n",
       "      <td>559</td>\n",
       "      <td>1141</td>\n",
       "      <td>0.05</td>\n",
       "      <td>592</td>\n",
       "      <td>576</td>\n",
       "      <td>1169</td>\n",
       "    </tr>\n",
       "  </tbody>\n",
       "</table>\n",
       "</div>"
      ],
      "text/plain": [
       "      state  participation_2019  english_2019  math_2019  total_2019  \\\n",
       "0   Alabama                0.07           583        560        1143   \n",
       "1    Alaska                0.41           556        541        1097   \n",
       "2   Arizona                0.31           569        565        1134   \n",
       "3  Arkansas                0.06           582        559        1141   \n",
       "\n",
       "   participation_2018  english_2018  math_2018  total_2018  \n",
       "0                0.06           595        571        1166  \n",
       "1                0.43           562        544        1106  \n",
       "2                0.29           577        572        1149  \n",
       "3                0.05           592        576        1169  "
      ]
     },
     "execution_count": 55,
     "metadata": {},
     "output_type": "execute_result"
    }
   ],
   "source": [
    "two_year_state_level_data.head(4)"
   ]
  },
  {
   "cell_type": "code",
   "execution_count": 56,
   "metadata": {},
   "outputs": [],
   "source": [
    "all_state_level_data = pd.merge(two_year_state_level_data, sat_state_2017, on='state')"
   ]
  },
  {
   "cell_type": "code",
   "execution_count": 57,
   "metadata": {
    "scrolled": true
   },
   "outputs": [
    {
     "data": {
      "text/html": [
       "<div>\n",
       "<style scoped>\n",
       "    .dataframe tbody tr th:only-of-type {\n",
       "        vertical-align: middle;\n",
       "    }\n",
       "\n",
       "    .dataframe tbody tr th {\n",
       "        vertical-align: top;\n",
       "    }\n",
       "\n",
       "    .dataframe thead th {\n",
       "        text-align: right;\n",
       "    }\n",
       "</style>\n",
       "<table border=\"1\" class=\"dataframe\">\n",
       "  <thead>\n",
       "    <tr style=\"text-align: right;\">\n",
       "      <th></th>\n",
       "      <th>state</th>\n",
       "      <th>participation_2019</th>\n",
       "      <th>english_2019</th>\n",
       "      <th>math_2019</th>\n",
       "      <th>total_2019</th>\n",
       "      <th>participation_2018</th>\n",
       "      <th>english_2018</th>\n",
       "      <th>math_2018</th>\n",
       "      <th>total_2018</th>\n",
       "      <th>participation_2017</th>\n",
       "      <th>english_2017</th>\n",
       "      <th>math_2017</th>\n",
       "      <th>total_2017</th>\n",
       "    </tr>\n",
       "  </thead>\n",
       "  <tbody>\n",
       "    <tr>\n",
       "      <th>0</th>\n",
       "      <td>Alabama</td>\n",
       "      <td>0.07</td>\n",
       "      <td>583</td>\n",
       "      <td>560</td>\n",
       "      <td>1143</td>\n",
       "      <td>0.06</td>\n",
       "      <td>595</td>\n",
       "      <td>571</td>\n",
       "      <td>1166</td>\n",
       "      <td>0.05</td>\n",
       "      <td>593</td>\n",
       "      <td>572.0</td>\n",
       "      <td>1165</td>\n",
       "    </tr>\n",
       "    <tr>\n",
       "      <th>1</th>\n",
       "      <td>Alaska</td>\n",
       "      <td>0.41</td>\n",
       "      <td>556</td>\n",
       "      <td>541</td>\n",
       "      <td>1097</td>\n",
       "      <td>0.43</td>\n",
       "      <td>562</td>\n",
       "      <td>544</td>\n",
       "      <td>1106</td>\n",
       "      <td>0.38</td>\n",
       "      <td>547</td>\n",
       "      <td>533.0</td>\n",
       "      <td>1080</td>\n",
       "    </tr>\n",
       "    <tr>\n",
       "      <th>2</th>\n",
       "      <td>Arizona</td>\n",
       "      <td>0.31</td>\n",
       "      <td>569</td>\n",
       "      <td>565</td>\n",
       "      <td>1134</td>\n",
       "      <td>0.29</td>\n",
       "      <td>577</td>\n",
       "      <td>572</td>\n",
       "      <td>1149</td>\n",
       "      <td>0.30</td>\n",
       "      <td>563</td>\n",
       "      <td>553.0</td>\n",
       "      <td>1116</td>\n",
       "    </tr>\n",
       "    <tr>\n",
       "      <th>3</th>\n",
       "      <td>Arkansas</td>\n",
       "      <td>0.06</td>\n",
       "      <td>582</td>\n",
       "      <td>559</td>\n",
       "      <td>1141</td>\n",
       "      <td>0.05</td>\n",
       "      <td>592</td>\n",
       "      <td>576</td>\n",
       "      <td>1169</td>\n",
       "      <td>0.03</td>\n",
       "      <td>614</td>\n",
       "      <td>594.0</td>\n",
       "      <td>1208</td>\n",
       "    </tr>\n",
       "  </tbody>\n",
       "</table>\n",
       "</div>"
      ],
      "text/plain": [
       "      state  participation_2019  english_2019  math_2019  total_2019  \\\n",
       "0   Alabama                0.07           583        560        1143   \n",
       "1    Alaska                0.41           556        541        1097   \n",
       "2   Arizona                0.31           569        565        1134   \n",
       "3  Arkansas                0.06           582        559        1141   \n",
       "\n",
       "   participation_2018  english_2018  math_2018  total_2018  \\\n",
       "0                0.06           595        571        1166   \n",
       "1                0.43           562        544        1106   \n",
       "2                0.29           577        572        1149   \n",
       "3                0.05           592        576        1169   \n",
       "\n",
       "   participation_2017  english_2017  math_2017  total_2017  \n",
       "0                0.05           593      572.0        1165  \n",
       "1                0.38           547      533.0        1080  \n",
       "2                0.30           563      553.0        1116  \n",
       "3                0.03           614      594.0        1208  "
      ]
     },
     "execution_count": 57,
     "metadata": {},
     "output_type": "execute_result"
    }
   ],
   "source": [
    "all_state_level_data.head(4)"
   ]
  },
  {
   "cell_type": "code",
   "execution_count": 58,
   "metadata": {},
   "outputs": [],
   "source": [
    "all_state_level_data.to_csv('data/all_state_level.csv', index=False)"
   ]
  },
  {
   "cell_type": "code",
   "execution_count": 59,
   "metadata": {},
   "outputs": [],
   "source": [
    "sat_major_2019.to_csv('data/all_state_level.csv', index=False)"
   ]
  },
  {
   "cell_type": "markdown",
   "metadata": {},
   "source": [
    "### Data Dictionary"
   ]
  },
  {
   "cell_type": "markdown",
   "metadata": {},
   "source": [
    "\n",
    "|Feature|Type|Dataset|Description|\n",
    "|---|---|---|---|\n",
    "|state|object|sat_state_2017, sat_state_2018, sat_state_2019|US State|\n",
    "|intended_college_major|object|sat_major_2019|Major that a student declares when taking the test|\n",
    "|major_test_takers|int64|sat_major_2019|Number of test takers that declared a certain major|\n",
    "|major_percent|float64|sat_major_2019|Percent of test takers that declared a certain major|\n",
    "|major_total|int64|sat_major_2019|Overall SAT score in the majors data|\n",
    "|major_english|int64|sat_major_2019|English, Reading, Writing score in the majors data\n",
    "|major_math|int64|sat_major_2019|Math score in the majors data|\n",
    "|math_2017|float64|sat_state_2017|Math score in the 2017 state data|\n",
    "|math_2018|int64|sat_state_2018|Math score in the 2018 state data|\n",
    "|participation_2017, participation_2018, participation_2019|float64|sat_state_2017, sat_state_2018, sat_state_2019|State SAT participation percent data|\n",
    "|english_2017, english_2018, english_2019|int64|sat_state_2017, sat_state_2018, sat_state_2019|State SAT English, Reading, Writing scores|\n",
    "|total_2017, total_2018, total_2019|int64|sat_state_2017, sat_state_2018, sat_state_2019|State SAT math scores|\n",
    "\n",
    "\n"
   ]
  },
  {
   "cell_type": "markdown",
   "metadata": {},
   "source": [
    "## Exploratory Data Analysis\n",
    "\n",
    "Complete the following steps to explore your data. You are welcome to do more EDA than the steps outlined here as you feel necessary:\n",
    "1. Summary Statistics.\n",
    "2. Use a **dictionary comprehension** to apply the standard deviation function you create in part 1 to each numeric column in the dataframe.  **No loops**.\n",
    "    - Assign the output to variable `sd` as a dictionary where: \n",
    "        - Each column name is now a key \n",
    "        - That standard deviation of the column is the value \n",
    "        - *Example Output :* `{'ACT_Math': 120, 'ACT_Reading': 120, ...}`\n",
    "3. Investigate trends in the data.\n",
    "    - Using sorting and/or masking (along with the `.head()` method to avoid printing our entire dataframe), consider questions relevant to your problem statement. Some examples are provided below (but feel free to change these questions for your specific problem):\n",
    "        - Which states have the highest and lowest participation rates for the 2017, 2019, or 2019 SAT and ACT?\n",
    "        - Which states have the highest and lowest mean total/composite scores for the 2017, 2019, or 2019 SAT and ACT?\n",
    "        - Do any states with 100% participation on a given test have a rate change year-to-year?\n",
    "        - Do any states show have >50% participation on *both* tests each year?\n",
    "        - Which colleges have the highest median SAT and ACT scores for admittance?\n",
    "        - Which California school districts have the highest and lowest mean test scores?\n",
    "    - **You should comment on your findings at each step in a markdown cell below your code block**. Make sure you include at least one example of sorting your dataframe by a column, and one example of using boolean filtering (i.e., masking) to select a subset of the dataframe."
   ]
  },
  {
   "cell_type": "markdown",
   "metadata": {},
   "source": [
    "#### exercise 2 for sat_major_2019"
   ]
  },
  {
   "cell_type": "code",
   "execution_count": 60,
   "metadata": {},
   "outputs": [
    {
     "data": {
      "text/plain": [
       "{'intended_college_major': {0: 'Agriculture, AgricultureOperations, and Related Sciences',\n",
       "  1: 'Architecture and Related Services',\n",
       "  2: 'Area, Ethnic, Cultural, and Gender Studies',\n",
       "  3: 'Biological and Biomedical Sciences',\n",
       "  4: 'Business, Management, Marketing, and Related Support Services',\n",
       "  5: 'Communication, Journalism, and Related Programs',\n",
       "  6: 'Computer and Information Sciences and Support Services',\n",
       "  7: 'Construction Trades, General',\n",
       "  8: 'Education',\n",
       "  9: 'Engineering',\n",
       "  10: 'Engineering Technologies/Technicians',\n",
       "  11: 'English Language and Literature/Letters',\n",
       "  12: 'Family and Consumer Sciences/Human Sciences',\n",
       "  13: 'Foreign Languages and Literatures, General',\n",
       "  14: 'Health Professions and related Clinical Sciences',\n",
       "  15: 'History, General',\n",
       "  16: 'Legal Studies, General',\n",
       "  17: 'Liberal Arts and Sciences, General Studies and Humanities',\n",
       "  18: 'Library Science/Librarianship',\n",
       "  19: 'Mathematics and Statistics',\n",
       "  20: 'Mechanic and Repair Technologies/Technicians',\n",
       "  21: 'Military Technologies',\n",
       "  22: 'Multi/Interdisciplinary Studies',\n",
       "  23: 'Natural resources and Conservation',\n",
       "  24: 'Parks, Recreation and Leisure Studies',\n",
       "  25: 'Personal and Culinary Services, General',\n",
       "  26: 'Philosophy and Religious Studies',\n",
       "  27: 'Physical Sciences',\n",
       "  28: 'Precision Production',\n",
       "  29: 'Psychology, General',\n",
       "  30: 'Public Administration and Social Service Professions',\n",
       "  31: 'Security and Protective Services',\n",
       "  32: 'Social Sciences',\n",
       "  33: 'Theology and Religious Vocations',\n",
       "  34: 'Transportation and Materials Moving',\n",
       "  35: 'Visual and Performing Arts, General'},\n",
       " 'major_test_takers': {0: 24913,\n",
       "  1: 28988,\n",
       "  2: 2629,\n",
       "  3: 155834,\n",
       "  4: 221523,\n",
       "  5: 36332,\n",
       "  6: 79736,\n",
       "  7: 2500,\n",
       "  8: 71882,\n",
       "  9: 194127,\n",
       "  10: 33595,\n",
       "  11: 16233,\n",
       "  12: 6469,\n",
       "  13: 9936,\n",
       "  14: 331026,\n",
       "  15: 12611,\n",
       "  16: 35788,\n",
       "  17: 8611,\n",
       "  18: 283,\n",
       "  19: 16508,\n",
       "  20: 6592,\n",
       "  21: 7448,\n",
       "  22: 2979,\n",
       "  23: 10147,\n",
       "  24: 13039,\n",
       "  25: 6668,\n",
       "  26: 3381,\n",
       "  27: 26318,\n",
       "  28: 319,\n",
       "  29: 75626,\n",
       "  30: 7852,\n",
       "  31: 68177,\n",
       "  32: 33356,\n",
       "  33: 1991,\n",
       "  34: 1105,\n",
       "  35: 130642},\n",
       " 'major_percent': {0: 0.01,\n",
       "  1: 0.02,\n",
       "  2: 0.0,\n",
       "  3: 0.08,\n",
       "  4: 0.12,\n",
       "  5: 0.02,\n",
       "  6: 0.04,\n",
       "  7: 0.0,\n",
       "  8: 0.04,\n",
       "  9: 0.11,\n",
       "  10: 0.02,\n",
       "  11: 0.01,\n",
       "  12: 0.0,\n",
       "  13: 0.01,\n",
       "  14: 0.18,\n",
       "  15: 0.01,\n",
       "  16: 0.02,\n",
       "  17: 0.0,\n",
       "  18: 0.0,\n",
       "  19: 0.01,\n",
       "  20: 0.0,\n",
       "  21: 0.0,\n",
       "  22: 0.0,\n",
       "  23: 0.01,\n",
       "  24: 0.01,\n",
       "  25: 0.0,\n",
       "  26: 0.0,\n",
       "  27: 0.01,\n",
       "  28: 0.0,\n",
       "  29: 0.04,\n",
       "  30: 0.0,\n",
       "  31: 0.04,\n",
       "  32: 0.02,\n",
       "  33: 0.0,\n",
       "  34: 0.0,\n",
       "  35: 0.07},\n",
       " 'major_total': {0: 977,\n",
       "  1: 1047,\n",
       "  2: 1040,\n",
       "  3: 1139,\n",
       "  4: 1072,\n",
       "  5: 1069,\n",
       "  6: 1156,\n",
       "  7: 919,\n",
       "  8: 1022,\n",
       "  9: 1139,\n",
       "  10: 1041,\n",
       "  11: 1119,\n",
       "  12: 953,\n",
       "  13: 1102,\n",
       "  14: 1048,\n",
       "  15: 1090,\n",
       "  16: 1104,\n",
       "  17: 1140,\n",
       "  18: 1105,\n",
       "  19: 1242,\n",
       "  20: 916,\n",
       "  21: 984,\n",
       "  22: 1155,\n",
       "  23: 1104,\n",
       "  24: 960,\n",
       "  25: 929,\n",
       "  26: 1120,\n",
       "  27: 1203,\n",
       "  28: 932,\n",
       "  29: 1064,\n",
       "  30: 1001,\n",
       "  31: 975,\n",
       "  32: 1164,\n",
       "  33: 1096,\n",
       "  34: 1019,\n",
       "  35: 1045},\n",
       " 'major_english': {0: 496,\n",
       "  1: 520,\n",
       "  2: 536,\n",
       "  3: 572,\n",
       "  4: 534,\n",
       "  5: 550,\n",
       "  6: 571,\n",
       "  7: 459,\n",
       "  8: 519,\n",
       "  9: 559,\n",
       "  10: 512,\n",
       "  11: 585,\n",
       "  12: 484,\n",
       "  13: 566,\n",
       "  14: 529,\n",
       "  15: 563,\n",
       "  16: 564,\n",
       "  17: 584,\n",
       "  18: 577,\n",
       "  19: 597,\n",
       "  20: 458,\n",
       "  21: 498,\n",
       "  22: 581,\n",
       "  23: 562,\n",
       "  24: 482,\n",
       "  25: 474,\n",
       "  26: 572,\n",
       "  27: 597,\n",
       "  28: 466,\n",
       "  29: 546,\n",
       "  30: 513,\n",
       "  31: 495,\n",
       "  32: 594,\n",
       "  33: 561,\n",
       "  34: 511,\n",
       "  35: 536},\n",
       " 'major_math': {0: 481,\n",
       "  1: 527,\n",
       "  2: 504,\n",
       "  3: 566,\n",
       "  4: 537,\n",
       "  5: 519,\n",
       "  6: 585,\n",
       "  7: 460,\n",
       "  8: 503,\n",
       "  9: 581,\n",
       "  10: 528,\n",
       "  11: 533,\n",
       "  12: 469,\n",
       "  13: 536,\n",
       "  14: 518,\n",
       "  15: 527,\n",
       "  16: 540,\n",
       "  17: 556,\n",
       "  18: 527,\n",
       "  19: 646,\n",
       "  20: 458,\n",
       "  21: 486,\n",
       "  22: 574,\n",
       "  23: 543,\n",
       "  24: 478,\n",
       "  25: 456,\n",
       "  26: 548,\n",
       "  27: 606,\n",
       "  28: 466,\n",
       "  29: 518,\n",
       "  30: 488,\n",
       "  31: 479,\n",
       "  32: 570,\n",
       "  33: 535,\n",
       "  34: 508,\n",
       "  35: 510}}"
      ]
     },
     "execution_count": 60,
     "metadata": {},
     "output_type": "execute_result"
    }
   ],
   "source": [
    "sat_major_dict = sat_major_2019.to_dict()\n",
    "sat_major_dict"
   ]
  },
  {
   "cell_type": "code",
   "execution_count": 61,
   "metadata": {},
   "outputs": [
    {
     "data": {
      "text/plain": [
       "{'major_test_takers': 72479.75258296385,\n",
       " 'major_percent': 0.03975620147292188,\n",
       " 'major_total': 82.00106800719725,\n",
       " 'major_english': 41.15780943852306,\n",
       " 'major_math': 43.242818571696866}"
      ]
     },
     "execution_count": 61,
     "metadata": {},
     "output_type": "execute_result"
    }
   ],
   "source": [
    "sd = {column_name: calculate_stdev(column_contents.values()) for column_name, column_contents \n",
    "                   in sat_major_dict.items() if column_name != 'intended_college_major'}\n",
    "sd"
   ]
  },
  {
   "cell_type": "markdown",
   "metadata": {},
   "source": [
    "#### summary statistics"
   ]
  },
  {
   "cell_type": "code",
   "execution_count": 62,
   "metadata": {},
   "outputs": [
    {
     "data": {
      "text/html": [
       "<div>\n",
       "<style scoped>\n",
       "    .dataframe tbody tr th:only-of-type {\n",
       "        vertical-align: middle;\n",
       "    }\n",
       "\n",
       "    .dataframe tbody tr th {\n",
       "        vertical-align: top;\n",
       "    }\n",
       "\n",
       "    .dataframe thead th {\n",
       "        text-align: right;\n",
       "    }\n",
       "</style>\n",
       "<table border=\"1\" class=\"dataframe\">\n",
       "  <thead>\n",
       "    <tr style=\"text-align: right;\">\n",
       "      <th></th>\n",
       "      <th>major_test_takers</th>\n",
       "      <th>major_percent</th>\n",
       "      <th>major_total</th>\n",
       "      <th>major_english</th>\n",
       "      <th>major_math</th>\n",
       "    </tr>\n",
       "  </thead>\n",
       "  <tbody>\n",
       "    <tr>\n",
       "      <th>count</th>\n",
       "      <td>36.000000</td>\n",
       "      <td>36.00000</td>\n",
       "      <td>36.000000</td>\n",
       "      <td>36.000000</td>\n",
       "      <td>36.000000</td>\n",
       "    </tr>\n",
       "    <tr>\n",
       "      <th>mean</th>\n",
       "      <td>46810.111111</td>\n",
       "      <td>0.02500</td>\n",
       "      <td>1060.861111</td>\n",
       "      <td>536.750000</td>\n",
       "      <td>524.055556</td>\n",
       "    </tr>\n",
       "    <tr>\n",
       "      <th>std</th>\n",
       "      <td>73507.885533</td>\n",
       "      <td>0.04032</td>\n",
       "      <td>83.164262</td>\n",
       "      <td>41.741637</td>\n",
       "      <td>43.856223</td>\n",
       "    </tr>\n",
       "    <tr>\n",
       "      <th>min</th>\n",
       "      <td>283.000000</td>\n",
       "      <td>0.00000</td>\n",
       "      <td>916.000000</td>\n",
       "      <td>458.000000</td>\n",
       "      <td>456.000000</td>\n",
       "    </tr>\n",
       "    <tr>\n",
       "      <th>25%</th>\n",
       "      <td>6561.250000</td>\n",
       "      <td>0.00000</td>\n",
       "      <td>996.750000</td>\n",
       "      <td>507.750000</td>\n",
       "      <td>487.500000</td>\n",
       "    </tr>\n",
       "    <tr>\n",
       "      <th>50%</th>\n",
       "      <td>14636.000000</td>\n",
       "      <td>0.01000</td>\n",
       "      <td>1066.500000</td>\n",
       "      <td>541.000000</td>\n",
       "      <td>527.000000</td>\n",
       "    </tr>\n",
       "    <tr>\n",
       "      <th>75%</th>\n",
       "      <td>44293.250000</td>\n",
       "      <td>0.02500</td>\n",
       "      <td>1119.250000</td>\n",
       "      <td>571.250000</td>\n",
       "      <td>544.250000</td>\n",
       "    </tr>\n",
       "    <tr>\n",
       "      <th>max</th>\n",
       "      <td>331026.000000</td>\n",
       "      <td>0.18000</td>\n",
       "      <td>1242.000000</td>\n",
       "      <td>597.000000</td>\n",
       "      <td>646.000000</td>\n",
       "    </tr>\n",
       "  </tbody>\n",
       "</table>\n",
       "</div>"
      ],
      "text/plain": [
       "       major_test_takers  major_percent  major_total  major_english  \\\n",
       "count          36.000000       36.00000    36.000000      36.000000   \n",
       "mean        46810.111111        0.02500  1060.861111     536.750000   \n",
       "std         73507.885533        0.04032    83.164262      41.741637   \n",
       "min           283.000000        0.00000   916.000000     458.000000   \n",
       "25%          6561.250000        0.00000   996.750000     507.750000   \n",
       "50%         14636.000000        0.01000  1066.500000     541.000000   \n",
       "75%         44293.250000        0.02500  1119.250000     571.250000   \n",
       "max        331026.000000        0.18000  1242.000000     597.000000   \n",
       "\n",
       "       major_math  \n",
       "count   36.000000  \n",
       "mean   524.055556  \n",
       "std     43.856223  \n",
       "min    456.000000  \n",
       "25%    487.500000  \n",
       "50%    527.000000  \n",
       "75%    544.250000  \n",
       "max    646.000000  "
      ]
     },
     "execution_count": 62,
     "metadata": {},
     "output_type": "execute_result"
    }
   ],
   "source": [
    "sat_major_2019.describe()"
   ]
  },
  {
   "cell_type": "markdown",
   "metadata": {},
   "source": [
    "**Summary of average SAT score by major data**: the mean and median of total scores are very close, so either one works for measure of center. The mean is 1060. I am expecting vocational major scores to be lower, so I will note the minimum is 916. The test taker percentage is strongly right-skewed. The max is 0.18, the median is 0.01. "
   ]
  },
  {
   "cell_type": "code",
   "execution_count": 63,
   "metadata": {},
   "outputs": [
    {
     "data": {
      "text/html": [
       "<div>\n",
       "<style scoped>\n",
       "    .dataframe tbody tr th:only-of-type {\n",
       "        vertical-align: middle;\n",
       "    }\n",
       "\n",
       "    .dataframe tbody tr th {\n",
       "        vertical-align: top;\n",
       "    }\n",
       "\n",
       "    .dataframe thead th {\n",
       "        text-align: right;\n",
       "    }\n",
       "</style>\n",
       "<table border=\"1\" class=\"dataframe\">\n",
       "  <thead>\n",
       "    <tr style=\"text-align: right;\">\n",
       "      <th></th>\n",
       "      <th>participation_2019</th>\n",
       "      <th>english_2019</th>\n",
       "      <th>math_2019</th>\n",
       "      <th>total_2019</th>\n",
       "      <th>participation_2018</th>\n",
       "      <th>english_2018</th>\n",
       "      <th>math_2018</th>\n",
       "      <th>total_2018</th>\n",
       "      <th>participation_2017</th>\n",
       "      <th>english_2017</th>\n",
       "      <th>math_2017</th>\n",
       "      <th>total_2017</th>\n",
       "    </tr>\n",
       "  </thead>\n",
       "  <tbody>\n",
       "    <tr>\n",
       "      <th>count</th>\n",
       "      <td>51.000000</td>\n",
       "      <td>51.000000</td>\n",
       "      <td>51.000000</td>\n",
       "      <td>51.000000</td>\n",
       "      <td>51.000000</td>\n",
       "      <td>51.000000</td>\n",
       "      <td>51.000000</td>\n",
       "      <td>51.000000</td>\n",
       "      <td>51.000000</td>\n",
       "      <td>51.000000</td>\n",
       "      <td>50.000000</td>\n",
       "      <td>51.000000</td>\n",
       "    </tr>\n",
       "    <tr>\n",
       "      <th>mean</th>\n",
       "      <td>0.490588</td>\n",
       "      <td>560.803922</td>\n",
       "      <td>552.196078</td>\n",
       "      <td>1113.078431</td>\n",
       "      <td>0.457451</td>\n",
       "      <td>563.686275</td>\n",
       "      <td>556.235294</td>\n",
       "      <td>1120.019608</td>\n",
       "      <td>0.398039</td>\n",
       "      <td>569.117647</td>\n",
       "      <td>557.540000</td>\n",
       "      <td>1126.098039</td>\n",
       "    </tr>\n",
       "    <tr>\n",
       "      <th>std</th>\n",
       "      <td>0.387476</td>\n",
       "      <td>46.248035</td>\n",
       "      <td>51.290553</td>\n",
       "      <td>97.197910</td>\n",
       "      <td>0.373143</td>\n",
       "      <td>47.502627</td>\n",
       "      <td>47.772623</td>\n",
       "      <td>94.155083</td>\n",
       "      <td>0.352766</td>\n",
       "      <td>45.666901</td>\n",
       "      <td>47.362781</td>\n",
       "      <td>92.494812</td>\n",
       "    </tr>\n",
       "    <tr>\n",
       "      <th>min</th>\n",
       "      <td>0.020000</td>\n",
       "      <td>483.000000</td>\n",
       "      <td>460.000000</td>\n",
       "      <td>943.000000</td>\n",
       "      <td>0.020000</td>\n",
       "      <td>480.000000</td>\n",
       "      <td>480.000000</td>\n",
       "      <td>977.000000</td>\n",
       "      <td>0.020000</td>\n",
       "      <td>482.000000</td>\n",
       "      <td>468.000000</td>\n",
       "      <td>950.000000</td>\n",
       "    </tr>\n",
       "    <tr>\n",
       "      <th>25%</th>\n",
       "      <td>0.055000</td>\n",
       "      <td>527.500000</td>\n",
       "      <td>511.500000</td>\n",
       "      <td>1038.000000</td>\n",
       "      <td>0.045000</td>\n",
       "      <td>534.500000</td>\n",
       "      <td>522.500000</td>\n",
       "      <td>1057.500000</td>\n",
       "      <td>0.040000</td>\n",
       "      <td>533.500000</td>\n",
       "      <td>523.250000</td>\n",
       "      <td>1055.500000</td>\n",
       "    </tr>\n",
       "    <tr>\n",
       "      <th>50%</th>\n",
       "      <td>0.540000</td>\n",
       "      <td>550.000000</td>\n",
       "      <td>546.000000</td>\n",
       "      <td>1097.000000</td>\n",
       "      <td>0.520000</td>\n",
       "      <td>552.000000</td>\n",
       "      <td>544.000000</td>\n",
       "      <td>1098.000000</td>\n",
       "      <td>0.380000</td>\n",
       "      <td>559.000000</td>\n",
       "      <td>549.500000</td>\n",
       "      <td>1107.000000</td>\n",
       "    </tr>\n",
       "    <tr>\n",
       "      <th>75%</th>\n",
       "      <td>0.820000</td>\n",
       "      <td>612.000000</td>\n",
       "      <td>599.000000</td>\n",
       "      <td>1210.000000</td>\n",
       "      <td>0.775000</td>\n",
       "      <td>610.500000</td>\n",
       "      <td>593.500000</td>\n",
       "      <td>1204.000000</td>\n",
       "      <td>0.660000</td>\n",
       "      <td>613.000000</td>\n",
       "      <td>601.000000</td>\n",
       "      <td>1212.000000</td>\n",
       "    </tr>\n",
       "    <tr>\n",
       "      <th>max</th>\n",
       "      <td>1.000000</td>\n",
       "      <td>636.000000</td>\n",
       "      <td>648.000000</td>\n",
       "      <td>1284.000000</td>\n",
       "      <td>1.000000</td>\n",
       "      <td>643.000000</td>\n",
       "      <td>655.000000</td>\n",
       "      <td>1298.000000</td>\n",
       "      <td>1.000000</td>\n",
       "      <td>644.000000</td>\n",
       "      <td>651.000000</td>\n",
       "      <td>1295.000000</td>\n",
       "    </tr>\n",
       "  </tbody>\n",
       "</table>\n",
       "</div>"
      ],
      "text/plain": [
       "       participation_2019  english_2019   math_2019   total_2019  \\\n",
       "count           51.000000     51.000000   51.000000    51.000000   \n",
       "mean             0.490588    560.803922  552.196078  1113.078431   \n",
       "std              0.387476     46.248035   51.290553    97.197910   \n",
       "min              0.020000    483.000000  460.000000   943.000000   \n",
       "25%              0.055000    527.500000  511.500000  1038.000000   \n",
       "50%              0.540000    550.000000  546.000000  1097.000000   \n",
       "75%              0.820000    612.000000  599.000000  1210.000000   \n",
       "max              1.000000    636.000000  648.000000  1284.000000   \n",
       "\n",
       "       participation_2018  english_2018   math_2018   total_2018  \\\n",
       "count           51.000000     51.000000   51.000000    51.000000   \n",
       "mean             0.457451    563.686275  556.235294  1120.019608   \n",
       "std              0.373143     47.502627   47.772623    94.155083   \n",
       "min              0.020000    480.000000  480.000000   977.000000   \n",
       "25%              0.045000    534.500000  522.500000  1057.500000   \n",
       "50%              0.520000    552.000000  544.000000  1098.000000   \n",
       "75%              0.775000    610.500000  593.500000  1204.000000   \n",
       "max              1.000000    643.000000  655.000000  1298.000000   \n",
       "\n",
       "       participation_2017  english_2017   math_2017   total_2017  \n",
       "count           51.000000     51.000000   50.000000    51.000000  \n",
       "mean             0.398039    569.117647  557.540000  1126.098039  \n",
       "std              0.352766     45.666901   47.362781    92.494812  \n",
       "min              0.020000    482.000000  468.000000   950.000000  \n",
       "25%              0.040000    533.500000  523.250000  1055.500000  \n",
       "50%              0.380000    559.000000  549.500000  1107.000000  \n",
       "75%              0.660000    613.000000  601.000000  1212.000000  \n",
       "max              1.000000    644.000000  651.000000  1295.000000  "
      ]
     },
     "execution_count": 63,
     "metadata": {},
     "output_type": "execute_result"
    }
   ],
   "source": [
    "all_state_level_data.describe()"
   ]
  },
  {
   "cell_type": "markdown",
   "metadata": {},
   "source": [
    "**Summary of SAT score by state data**: the mean total scores have dropped slightly over the 3 measured years but are close to each other. The minimum average state score for 2019 is 943, higher than the minimum score for a major reported in the table above."
   ]
  },
  {
   "cell_type": "markdown",
   "metadata": {},
   "source": [
    "#### Sort Data"
   ]
  },
  {
   "cell_type": "code",
   "execution_count": 64,
   "metadata": {
    "scrolled": true
   },
   "outputs": [
    {
     "data": {
      "text/html": [
       "<div>\n",
       "<style scoped>\n",
       "    .dataframe tbody tr th:only-of-type {\n",
       "        vertical-align: middle;\n",
       "    }\n",
       "\n",
       "    .dataframe tbody tr th {\n",
       "        vertical-align: top;\n",
       "    }\n",
       "\n",
       "    .dataframe thead th {\n",
       "        text-align: right;\n",
       "    }\n",
       "</style>\n",
       "<table border=\"1\" class=\"dataframe\">\n",
       "  <thead>\n",
       "    <tr style=\"text-align: right;\">\n",
       "      <th></th>\n",
       "      <th>intended_college_major</th>\n",
       "      <th>major_test_takers</th>\n",
       "      <th>major_percent</th>\n",
       "      <th>major_total</th>\n",
       "      <th>major_english</th>\n",
       "      <th>major_math</th>\n",
       "    </tr>\n",
       "  </thead>\n",
       "  <tbody>\n",
       "    <tr>\n",
       "      <th>17</th>\n",
       "      <td>Liberal Arts and Sciences, General Studies and...</td>\n",
       "      <td>8611</td>\n",
       "      <td>0.0</td>\n",
       "      <td>1140</td>\n",
       "      <td>584</td>\n",
       "      <td>556</td>\n",
       "    </tr>\n",
       "    <tr>\n",
       "      <th>20</th>\n",
       "      <td>Mechanic and Repair Technologies/Technicians</td>\n",
       "      <td>6592</td>\n",
       "      <td>0.0</td>\n",
       "      <td>916</td>\n",
       "      <td>458</td>\n",
       "      <td>458</td>\n",
       "    </tr>\n",
       "    <tr>\n",
       "      <th>21</th>\n",
       "      <td>Military Technologies</td>\n",
       "      <td>7448</td>\n",
       "      <td>0.0</td>\n",
       "      <td>984</td>\n",
       "      <td>498</td>\n",
       "      <td>486</td>\n",
       "    </tr>\n",
       "    <tr>\n",
       "      <th>12</th>\n",
       "      <td>Family and Consumer Sciences/Human Sciences</td>\n",
       "      <td>6469</td>\n",
       "      <td>0.0</td>\n",
       "      <td>953</td>\n",
       "      <td>484</td>\n",
       "      <td>469</td>\n",
       "    </tr>\n",
       "    <tr>\n",
       "      <th>22</th>\n",
       "      <td>Multi/Interdisciplinary Studies</td>\n",
       "      <td>2979</td>\n",
       "      <td>0.0</td>\n",
       "      <td>1155</td>\n",
       "      <td>581</td>\n",
       "      <td>574</td>\n",
       "    </tr>\n",
       "    <tr>\n",
       "      <th>18</th>\n",
       "      <td>Library Science/Librarianship</td>\n",
       "      <td>283</td>\n",
       "      <td>0.0</td>\n",
       "      <td>1105</td>\n",
       "      <td>577</td>\n",
       "      <td>527</td>\n",
       "    </tr>\n",
       "    <tr>\n",
       "      <th>7</th>\n",
       "      <td>Construction Trades, General</td>\n",
       "      <td>2500</td>\n",
       "      <td>0.0</td>\n",
       "      <td>919</td>\n",
       "      <td>459</td>\n",
       "      <td>460</td>\n",
       "    </tr>\n",
       "    <tr>\n",
       "      <th>25</th>\n",
       "      <td>Personal and Culinary Services, General</td>\n",
       "      <td>6668</td>\n",
       "      <td>0.0</td>\n",
       "      <td>929</td>\n",
       "      <td>474</td>\n",
       "      <td>456</td>\n",
       "    </tr>\n",
       "    <tr>\n",
       "      <th>28</th>\n",
       "      <td>Precision Production</td>\n",
       "      <td>319</td>\n",
       "      <td>0.0</td>\n",
       "      <td>932</td>\n",
       "      <td>466</td>\n",
       "      <td>466</td>\n",
       "    </tr>\n",
       "    <tr>\n",
       "      <th>30</th>\n",
       "      <td>Public Administration and Social Service Profe...</td>\n",
       "      <td>7852</td>\n",
       "      <td>0.0</td>\n",
       "      <td>1001</td>\n",
       "      <td>513</td>\n",
       "      <td>488</td>\n",
       "    </tr>\n",
       "  </tbody>\n",
       "</table>\n",
       "</div>"
      ],
      "text/plain": [
       "                               intended_college_major  major_test_takers  \\\n",
       "17  Liberal Arts and Sciences, General Studies and...               8611   \n",
       "20       Mechanic and Repair Technologies/Technicians               6592   \n",
       "21                              Military Technologies               7448   \n",
       "12        Family and Consumer Sciences/Human Sciences               6469   \n",
       "22                    Multi/Interdisciplinary Studies               2979   \n",
       "18                      Library Science/Librarianship                283   \n",
       "7                        Construction Trades, General               2500   \n",
       "25            Personal and Culinary Services, General               6668   \n",
       "28                               Precision Production                319   \n",
       "30  Public Administration and Social Service Profe...               7852   \n",
       "\n",
       "    major_percent  major_total  major_english  major_math  \n",
       "17            0.0         1140            584         556  \n",
       "20            0.0          916            458         458  \n",
       "21            0.0          984            498         486  \n",
       "12            0.0          953            484         469  \n",
       "22            0.0         1155            581         574  \n",
       "18            0.0         1105            577         527  \n",
       "7             0.0          919            459         460  \n",
       "25            0.0          929            474         456  \n",
       "28            0.0          932            466         466  \n",
       "30            0.0         1001            513         488  "
      ]
     },
     "execution_count": 64,
     "metadata": {},
     "output_type": "execute_result"
    }
   ],
   "source": [
    "sat_major_2019.sort_values('major_percent').head(10)"
   ]
  },
  {
   "cell_type": "markdown",
   "metadata": {},
   "source": [
    "**Sort by percent of test takers in an intended major**: Many of the intended college majors have a relatively small number of test takers and make up less than 1 percent of the students that take the SAT. However, I do not have data on how the proportion of test takers in a major compares to the proportion of students nationally that intend to major in the field."
   ]
  },
  {
   "cell_type": "code",
   "execution_count": 65,
   "metadata": {
    "scrolled": false
   },
   "outputs": [
    {
     "data": {
      "text/html": [
       "<div>\n",
       "<style scoped>\n",
       "    .dataframe tbody tr th:only-of-type {\n",
       "        vertical-align: middle;\n",
       "    }\n",
       "\n",
       "    .dataframe tbody tr th {\n",
       "        vertical-align: top;\n",
       "    }\n",
       "\n",
       "    .dataframe thead th {\n",
       "        text-align: right;\n",
       "    }\n",
       "</style>\n",
       "<table border=\"1\" class=\"dataframe\">\n",
       "  <thead>\n",
       "    <tr style=\"text-align: right;\">\n",
       "      <th></th>\n",
       "      <th>intended_college_major</th>\n",
       "      <th>major_test_takers</th>\n",
       "      <th>major_percent</th>\n",
       "      <th>major_total</th>\n",
       "      <th>major_english</th>\n",
       "      <th>major_math</th>\n",
       "    </tr>\n",
       "  </thead>\n",
       "  <tbody>\n",
       "    <tr>\n",
       "      <th>20</th>\n",
       "      <td>Mechanic and Repair Technologies/Technicians</td>\n",
       "      <td>6592</td>\n",
       "      <td>0.00</td>\n",
       "      <td>916</td>\n",
       "      <td>458</td>\n",
       "      <td>458</td>\n",
       "    </tr>\n",
       "    <tr>\n",
       "      <th>7</th>\n",
       "      <td>Construction Trades, General</td>\n",
       "      <td>2500</td>\n",
       "      <td>0.00</td>\n",
       "      <td>919</td>\n",
       "      <td>459</td>\n",
       "      <td>460</td>\n",
       "    </tr>\n",
       "    <tr>\n",
       "      <th>25</th>\n",
       "      <td>Personal and Culinary Services, General</td>\n",
       "      <td>6668</td>\n",
       "      <td>0.00</td>\n",
       "      <td>929</td>\n",
       "      <td>474</td>\n",
       "      <td>456</td>\n",
       "    </tr>\n",
       "    <tr>\n",
       "      <th>28</th>\n",
       "      <td>Precision Production</td>\n",
       "      <td>319</td>\n",
       "      <td>0.00</td>\n",
       "      <td>932</td>\n",
       "      <td>466</td>\n",
       "      <td>466</td>\n",
       "    </tr>\n",
       "    <tr>\n",
       "      <th>12</th>\n",
       "      <td>Family and Consumer Sciences/Human Sciences</td>\n",
       "      <td>6469</td>\n",
       "      <td>0.00</td>\n",
       "      <td>953</td>\n",
       "      <td>484</td>\n",
       "      <td>469</td>\n",
       "    </tr>\n",
       "    <tr>\n",
       "      <th>24</th>\n",
       "      <td>Parks, Recreation and Leisure Studies</td>\n",
       "      <td>13039</td>\n",
       "      <td>0.01</td>\n",
       "      <td>960</td>\n",
       "      <td>482</td>\n",
       "      <td>478</td>\n",
       "    </tr>\n",
       "    <tr>\n",
       "      <th>31</th>\n",
       "      <td>Security and Protective Services</td>\n",
       "      <td>68177</td>\n",
       "      <td>0.04</td>\n",
       "      <td>975</td>\n",
       "      <td>495</td>\n",
       "      <td>479</td>\n",
       "    </tr>\n",
       "    <tr>\n",
       "      <th>0</th>\n",
       "      <td>Agriculture, AgricultureOperations, and Relate...</td>\n",
       "      <td>24913</td>\n",
       "      <td>0.01</td>\n",
       "      <td>977</td>\n",
       "      <td>496</td>\n",
       "      <td>481</td>\n",
       "    </tr>\n",
       "    <tr>\n",
       "      <th>21</th>\n",
       "      <td>Military Technologies</td>\n",
       "      <td>7448</td>\n",
       "      <td>0.00</td>\n",
       "      <td>984</td>\n",
       "      <td>498</td>\n",
       "      <td>486</td>\n",
       "    </tr>\n",
       "    <tr>\n",
       "      <th>30</th>\n",
       "      <td>Public Administration and Social Service Profe...</td>\n",
       "      <td>7852</td>\n",
       "      <td>0.00</td>\n",
       "      <td>1001</td>\n",
       "      <td>513</td>\n",
       "      <td>488</td>\n",
       "    </tr>\n",
       "  </tbody>\n",
       "</table>\n",
       "</div>"
      ],
      "text/plain": [
       "                               intended_college_major  major_test_takers  \\\n",
       "20       Mechanic and Repair Technologies/Technicians               6592   \n",
       "7                        Construction Trades, General               2500   \n",
       "25            Personal and Culinary Services, General               6668   \n",
       "28                               Precision Production                319   \n",
       "12        Family and Consumer Sciences/Human Sciences               6469   \n",
       "24              Parks, Recreation and Leisure Studies              13039   \n",
       "31                   Security and Protective Services              68177   \n",
       "0   Agriculture, AgricultureOperations, and Relate...              24913   \n",
       "21                              Military Technologies               7448   \n",
       "30  Public Administration and Social Service Profe...               7852   \n",
       "\n",
       "    major_percent  major_total  major_english  major_math  \n",
       "20           0.00          916            458         458  \n",
       "7            0.00          919            459         460  \n",
       "25           0.00          929            474         456  \n",
       "28           0.00          932            466         466  \n",
       "12           0.00          953            484         469  \n",
       "24           0.01          960            482         478  \n",
       "31           0.04          975            495         479  \n",
       "0            0.01          977            496         481  \n",
       "21           0.00          984            498         486  \n",
       "30           0.00         1001            513         488  "
      ]
     },
     "execution_count": 65,
     "metadata": {},
     "output_type": "execute_result"
    }
   ],
   "source": [
    "sat_major_2019.sort_values('major_total').head(10)"
   ]
  },
  {
   "cell_type": "markdown",
   "metadata": {},
   "source": [
    "**Sort by total score**: Out of the 10 majors with the lowest total mean scores, 9 fall into the vocational category. 4 majors have a lower score than the minimum average state score."
   ]
  },
  {
   "cell_type": "markdown",
   "metadata": {},
   "source": [
    "#### Use masking to select a subset of the dataframe. I will analyze vocational majors as compared to other majors, so I will create a list of majors that seem specifically vocational instead of academic. These are majors that seem to be solely intended for a student to get a job in a specific field with just a bachelor's degree, or learn a trade. The list is obviously subjective."
   ]
  },
  {
   "cell_type": "code",
   "execution_count": 66,
   "metadata": {},
   "outputs": [],
   "source": [
    "vocational_major_list = ['Agriculture, AgricultureOperations, and Related Sciences', 'Construction Trades, General',\n",
    "                        'Engineering Technologies/Technicians', 'Family and Consumer Sciences/Human Sciences', \n",
    "                         'Mechanic and Repair Technologies/Technicians', 'Military Technologies', 'Natural resources and Conservation',\n",
    "                         'Parks, Recreation and Leisure Studies','Personal and Culinary Services, General', 'Precision Production', \n",
    "                         'Security and Protective Services', 'Transportation and Materials Moving']"
   ]
  },
  {
   "cell_type": "code",
   "execution_count": 67,
   "metadata": {},
   "outputs": [
    {
     "data": {
      "text/plain": [
       "array([ True, False, False, False, False, False, False,  True, False,\n",
       "       False,  True, False,  True, False, False, False, False, False,\n",
       "       False, False,  True,  True, False,  True,  True,  True, False,\n",
       "       False,  True, False, False,  True, False, False,  True, False])"
      ]
     },
     "execution_count": 67,
     "metadata": {},
     "output_type": "execute_result"
    }
   ],
   "source": [
    "majors_mask = np.isin(sat_major_2019['intended_college_major'], vocational_major_list)\n",
    "majors_mask"
   ]
  },
  {
   "cell_type": "code",
   "execution_count": 68,
   "metadata": {
    "scrolled": true
   },
   "outputs": [
    {
     "data": {
      "text/html": [
       "<div>\n",
       "<style scoped>\n",
       "    .dataframe tbody tr th:only-of-type {\n",
       "        vertical-align: middle;\n",
       "    }\n",
       "\n",
       "    .dataframe tbody tr th {\n",
       "        vertical-align: top;\n",
       "    }\n",
       "\n",
       "    .dataframe thead th {\n",
       "        text-align: right;\n",
       "    }\n",
       "</style>\n",
       "<table border=\"1\" class=\"dataframe\">\n",
       "  <thead>\n",
       "    <tr style=\"text-align: right;\">\n",
       "      <th></th>\n",
       "      <th>intended_college_major</th>\n",
       "      <th>major_test_takers</th>\n",
       "      <th>major_percent</th>\n",
       "      <th>major_total</th>\n",
       "      <th>major_english</th>\n",
       "      <th>major_math</th>\n",
       "    </tr>\n",
       "  </thead>\n",
       "  <tbody>\n",
       "    <tr>\n",
       "      <th>0</th>\n",
       "      <td>Agriculture, AgricultureOperations, and Relate...</td>\n",
       "      <td>24913</td>\n",
       "      <td>0.01</td>\n",
       "      <td>977</td>\n",
       "      <td>496</td>\n",
       "      <td>481</td>\n",
       "    </tr>\n",
       "    <tr>\n",
       "      <th>7</th>\n",
       "      <td>Construction Trades, General</td>\n",
       "      <td>2500</td>\n",
       "      <td>0.00</td>\n",
       "      <td>919</td>\n",
       "      <td>459</td>\n",
       "      <td>460</td>\n",
       "    </tr>\n",
       "    <tr>\n",
       "      <th>10</th>\n",
       "      <td>Engineering Technologies/Technicians</td>\n",
       "      <td>33595</td>\n",
       "      <td>0.02</td>\n",
       "      <td>1041</td>\n",
       "      <td>512</td>\n",
       "      <td>528</td>\n",
       "    </tr>\n",
       "    <tr>\n",
       "      <th>12</th>\n",
       "      <td>Family and Consumer Sciences/Human Sciences</td>\n",
       "      <td>6469</td>\n",
       "      <td>0.00</td>\n",
       "      <td>953</td>\n",
       "      <td>484</td>\n",
       "      <td>469</td>\n",
       "    </tr>\n",
       "    <tr>\n",
       "      <th>20</th>\n",
       "      <td>Mechanic and Repair Technologies/Technicians</td>\n",
       "      <td>6592</td>\n",
       "      <td>0.00</td>\n",
       "      <td>916</td>\n",
       "      <td>458</td>\n",
       "      <td>458</td>\n",
       "    </tr>\n",
       "    <tr>\n",
       "      <th>21</th>\n",
       "      <td>Military Technologies</td>\n",
       "      <td>7448</td>\n",
       "      <td>0.00</td>\n",
       "      <td>984</td>\n",
       "      <td>498</td>\n",
       "      <td>486</td>\n",
       "    </tr>\n",
       "    <tr>\n",
       "      <th>23</th>\n",
       "      <td>Natural resources and Conservation</td>\n",
       "      <td>10147</td>\n",
       "      <td>0.01</td>\n",
       "      <td>1104</td>\n",
       "      <td>562</td>\n",
       "      <td>543</td>\n",
       "    </tr>\n",
       "    <tr>\n",
       "      <th>24</th>\n",
       "      <td>Parks, Recreation and Leisure Studies</td>\n",
       "      <td>13039</td>\n",
       "      <td>0.01</td>\n",
       "      <td>960</td>\n",
       "      <td>482</td>\n",
       "      <td>478</td>\n",
       "    </tr>\n",
       "    <tr>\n",
       "      <th>25</th>\n",
       "      <td>Personal and Culinary Services, General</td>\n",
       "      <td>6668</td>\n",
       "      <td>0.00</td>\n",
       "      <td>929</td>\n",
       "      <td>474</td>\n",
       "      <td>456</td>\n",
       "    </tr>\n",
       "    <tr>\n",
       "      <th>28</th>\n",
       "      <td>Precision Production</td>\n",
       "      <td>319</td>\n",
       "      <td>0.00</td>\n",
       "      <td>932</td>\n",
       "      <td>466</td>\n",
       "      <td>466</td>\n",
       "    </tr>\n",
       "    <tr>\n",
       "      <th>31</th>\n",
       "      <td>Security and Protective Services</td>\n",
       "      <td>68177</td>\n",
       "      <td>0.04</td>\n",
       "      <td>975</td>\n",
       "      <td>495</td>\n",
       "      <td>479</td>\n",
       "    </tr>\n",
       "    <tr>\n",
       "      <th>34</th>\n",
       "      <td>Transportation and Materials Moving</td>\n",
       "      <td>1105</td>\n",
       "      <td>0.00</td>\n",
       "      <td>1019</td>\n",
       "      <td>511</td>\n",
       "      <td>508</td>\n",
       "    </tr>\n",
       "  </tbody>\n",
       "</table>\n",
       "</div>"
      ],
      "text/plain": [
       "                               intended_college_major  major_test_takers  \\\n",
       "0   Agriculture, AgricultureOperations, and Relate...              24913   \n",
       "7                        Construction Trades, General               2500   \n",
       "10               Engineering Technologies/Technicians              33595   \n",
       "12        Family and Consumer Sciences/Human Sciences               6469   \n",
       "20       Mechanic and Repair Technologies/Technicians               6592   \n",
       "21                              Military Technologies               7448   \n",
       "23                 Natural resources and Conservation              10147   \n",
       "24              Parks, Recreation and Leisure Studies              13039   \n",
       "25            Personal and Culinary Services, General               6668   \n",
       "28                               Precision Production                319   \n",
       "31                   Security and Protective Services              68177   \n",
       "34                Transportation and Materials Moving               1105   \n",
       "\n",
       "    major_percent  major_total  major_english  major_math  \n",
       "0            0.01          977            496         481  \n",
       "7            0.00          919            459         460  \n",
       "10           0.02         1041            512         528  \n",
       "12           0.00          953            484         469  \n",
       "20           0.00          916            458         458  \n",
       "21           0.00          984            498         486  \n",
       "23           0.01         1104            562         543  \n",
       "24           0.01          960            482         478  \n",
       "25           0.00          929            474         456  \n",
       "28           0.00          932            466         466  \n",
       "31           0.04          975            495         479  \n",
       "34           0.00         1019            511         508  "
      ]
     },
     "execution_count": 68,
     "metadata": {},
     "output_type": "execute_result"
    }
   ],
   "source": [
    "sat_major_2019[majors_mask]"
   ]
  },
  {
   "cell_type": "markdown",
   "metadata": {},
   "source": [
    "**Vocational data**: The vocational majors mostly have a relatively low number of test takers. Most majors have an average total score below the mean for majors."
   ]
  },
  {
   "cell_type": "markdown",
   "metadata": {},
   "source": [
    "## Visualize the Data"
   ]
  },
  {
   "cell_type": "code",
   "execution_count": 69,
   "metadata": {},
   "outputs": [
    {
     "data": {
      "image/png": "[encoded data removed]",
      "text/plain": [
       "<Figure size 720x720 with 2 Axes>"
      ]
     },
     "metadata": {
      "needs_background": "light"
     },
     "output_type": "display_data"
    }
   ],
   "source": [
    "fig, ax = plt.subplots(1, 1, figsize=(10,10))\n",
    "sns.heatmap(sat_major_2019.corr(), cmap='coolwarm', annot=True)\n",
    "ax.set_title('Correlations between features in SAT data by major', fontsize = 16, loc = 'center', \n",
    "             pad = 15);"
   ]
  },
  {
   "cell_type": "markdown",
   "metadata": {},
   "source": [
    "*Interpretation: On the bottom right, this \"heat map\" shows that math and english scores are highly correlated. Interestingly, the bottom left shows little correlation between number of test takers for a major and SAT scores.*"
   ]
  },
  {
   "cell_type": "markdown",
   "metadata": {},
   "source": [
    "#### Histograms for variables of interest. As shown above, the math and english scores are highly correlated to the total score and to each other. So, I did not think it was worth looking at distributions for math and english scores separately."
   ]
  },
  {
   "cell_type": "code",
   "execution_count": 70,
   "metadata": {
    "scrolled": true
   },
   "outputs": [
    {
     "data": {
      "image/png": "[encoded data removed]",
      "text/plain": [
       "<Figure size 720x360 with 1 Axes>"
      ]
     },
     "metadata": {
      "needs_background": "light"
     },
     "output_type": "display_data"
    }
   ],
   "source": [
    "fig, ax = plt.subplots(1, 1, figsize = (10, 5))\n",
    "\n",
    "ax.hist(sat_major_2019['major_percent'], bins = 10, color = 'purple', rwidth = 0.8)\n",
    "\n",
    "ax.set_xlabel('Percentage of total test takers in a major')\n",
    "ax.set_ylabel('Frequency')\n",
    "ax.set_title('Unequal distribution of percent of total test takers for majors',\n",
    "             fontsize = 16, loc = 'center', pad=10);"
   ]
  },
  {
   "cell_type": "markdown",
   "metadata": {},
   "source": [
    "*Intepretation: most of the majors have small numbers of test takers*"
   ]
  },
  {
   "cell_type": "code",
   "execution_count": 71,
   "metadata": {},
   "outputs": [
    {
     "data": {
      "image/png": "[encoded data removed]",
      "text/plain": [
       "<Figure size 720x360 with 1 Axes>"
      ]
     },
     "metadata": {
      "needs_background": "light"
     },
     "output_type": "display_data"
    }
   ],
   "source": [
    "#Credit to the data visualization lecture notebook\n",
    "\n",
    "fig, ax = plt.subplots(1, 1, figsize = (10, 5))\n",
    "\n",
    "ax.hist(sat_major_2019['major_total'], bins = 20, color = 'b', rwidth = 0.8)\n",
    "\n",
    "ax.set_xlabel('Mean total SAT scores for intended majors')\n",
    "ax.set_ylabel('Frequency')\n",
    "ax.set_title('Majors with low average SAT scores stand out',\n",
    "             fontsize = 16, loc = 'center', pad=10);"
   ]
  },
  {
   "cell_type": "markdown",
   "metadata": {},
   "source": [
    "*Interpretation: the left side of the graph shows that several majors have relatively low mean scores stand out from the rest*"
   ]
  },
  {
   "cell_type": "code",
   "execution_count": 72,
   "metadata": {
    "scrolled": true
   },
   "outputs": [
    {
     "data": {
      "image/png": "[encoded data removed]",
      "text/plain": [
       "<Figure size 720x360 with 1 Axes>"
      ]
     },
     "metadata": {
      "needs_background": "light"
     },
     "output_type": "display_data"
    }
   ],
   "source": [
    "#Credit to the data visualization lecture notebook\n",
    "fig, ax = plt.subplots(1, 1, figsize = (10, 5))\n",
    "\n",
    "ax.hist(all_state_level_data['total_2019'], bins = 15, color = 'c', rwidth = 0.8)\n",
    "\n",
    "ax.set_xlabel('Mean SAT scores for states')\n",
    "ax.set_ylabel('Frequency')\n",
    "ax.set_title('Frequency distribution of SAT scores for states',\n",
    "             fontsize = 16, loc = 'center', pad=10);"
   ]
  },
  {
   "cell_type": "markdown",
   "metadata": {},
   "source": [
    "*Interpretation: distribution by state is very different than distribution by major. Clusters at middle and high end*"
   ]
  },
  {
   "cell_type": "code",
   "execution_count": 73,
   "metadata": {},
   "outputs": [
    {
     "data": {
      "image/png": "[encoded data removed]",
      "text/plain": [
       "<Figure size 504x504 with 1 Axes>"
      ]
     },
     "metadata": {
      "needs_background": "light"
     },
     "output_type": "display_data"
    }
   ],
   "source": [
    "fig, ax = plt.subplots(1, 1, figsize = (7,7))\n",
    "\n",
    "sns.boxplot(x=all_state_level_data['total_2019'], color='r')\n",
    "\n",
    "ax.set_xlabel('SAT scores for states')\n",
    "ax.set_title('Center and spread of SAT scores for states',\n",
    "             fontsize = 16, loc = 'center', pad=10);"
   ]
  },
  {
   "cell_type": "markdown",
   "metadata": {},
   "source": [
    "*Interpretation: No outliers. The median is somewhat less than the mean*"
   ]
  },
  {
   "cell_type": "code",
   "execution_count": 74,
   "metadata": {
    "scrolled": true
   },
   "outputs": [
    {
     "data": {
      "image/png": "[encoded data removed]",
      "text/plain": [
       "<Figure size 504x504 with 1 Axes>"
      ]
     },
     "metadata": {
      "needs_background": "light"
     },
     "output_type": "display_data"
    }
   ],
   "source": [
    "fig, ax = plt.subplots(1, 1, figsize = (7,7))\n",
    "\n",
    "sns.boxplot(x=sat_major_2019['major_total'], color='g')\n",
    "\n",
    "ax.set_xlabel('SAT scores for intended majors')\n",
    "ax.set_title('Center and spread of SAT scores for majors',\n",
    "             fontsize = 16, loc = 'center', pad=10);"
   ]
  },
  {
   "cell_type": "markdown",
   "metadata": {},
   "source": [
    "*Interpretation: Little to take from this. The histogram is more informative. No outliers.*"
   ]
  },
  {
   "cell_type": "code",
   "execution_count": 75,
   "metadata": {
    "scrolled": true
   },
   "outputs": [
    {
     "data": {
      "image/png": "[encoded data removed]",
      "text/plain": [
       "<Figure size 504x504 with 1 Axes>"
      ]
     },
     "metadata": {
      "needs_background": "light"
     },
     "output_type": "display_data"
    }
   ],
   "source": [
    "fig, ax = plt.subplots(1, 1, figsize = (7,7))\n",
    "\n",
    "sns.boxplot(x=sat_major_2019['major_percent'], color='b')\n",
    "\n",
    "ax.set_xlabel('Percentage of total test takers in a major')\n",
    "ax.set_title('Center and spread of total test takers in a major',\n",
    "             fontsize = 16, loc = 'center', pad=10);"
   ]
  },
  {
   "cell_type": "markdown",
   "metadata": {},
   "source": [
    "*Interpretation: it seems like there are a lot of infrequently declared majors and a few very frequently declared majors*"
   ]
  },
  {
   "cell_type": "code",
   "execution_count": 76,
   "metadata": {},
   "outputs": [],
   "source": [
    "to_highlight = sat_major_2019[majors_mask]"
   ]
  },
  {
   "cell_type": "code",
   "execution_count": 77,
   "metadata": {},
   "outputs": [
    {
     "data": {
      "image/png": "[encoded data removed]",
      "text/plain": [
       "<Figure size 720x360 with 1 Axes>"
      ]
     },
     "metadata": {
      "needs_background": "light"
     },
     "output_type": "display_data"
    }
   ],
   "source": [
    "fig, ax = plt.subplots(1, 1, figsize = (10, 5))\n",
    "\n",
    "ax.scatter(sat_major_2019['intended_college_major'], sat_major_2019['major_total'],\n",
    "           color = 'c', #marker color\n",
    "           s = 80, #marker size\n",
    "           alpha = 0.3, label = 'Intended college major vs Total Score');\n",
    "\n",
    "# scatter: to_highlight.\n",
    "ax.scatter(to_highlight['intended_college_major'], to_highlight['major_total'], s = 80, \n",
    "           color = 'yellow', alpha = 0.8,\n",
    "           label = 'Vocational Majors')\n",
    "\n",
    "# plot state average\n",
    "ax.axhline(y = all_state_level_data['total_2019'].mean(), color = 'red',\n",
    "           linestyle = ':', #dashed line\n",
    "           linewidth = 2, label='Average 2019 SAT score for all states')\n",
    "\n",
    "#plot state minimum\n",
    "ax.axhline(y = all_state_level_data['total_2019'].min(), color = 'green',\n",
    "           linestyle = ':', #dashed line\n",
    "           linewidth = 2, label='Minimum 2019 SAT score for all states')\n",
    "\n",
    "ax.legend(loc = 'upper center', title = 'Legend', title_fontsize = 'large')\n",
    "\n",
    "# Remove ticks on x axis. Referred to https://stackoverflow.com/questions/12998430/remove-xticks-in-a-matplotlib-plot\n",
    "ax.tick_params(axis = 'x', bottom=False, top=False, labelbottom=False)\n",
    "\n",
    "ax.set_xlabel('Intended College Major')\n",
    "ax.set_ylabel('Average Total Score')\n",
    "ax.set_title('Intended college major vs average score for 2019',\n",
    "             fontsize = 14, fontweight = 'bold',\n",
    "             loc = 'left', #alignment: left, center, right\n",
    "             pad = 15 # move title a bit up\n",
    "             );"
   ]
  },
  {
   "cell_type": "markdown",
   "metadata": {},
   "source": [
    "*Interpretation: Vocational majors are yellow. This graph puts the vocational major data in the context of average data for states. Many of the vocational majors are near the minimum average total for a state.*"
   ]
  }
 ],
 "metadata": {
  "anaconda-cloud": {},
  "kernelspec": {
   "display_name": "Python 3",
   "language": "python",
   "name": "python3"
  },
  "language_info": {
   "codemirror_mode": {
    "name": "ipython",
    "version": 3
   },
   "file_extension": ".py",
   "mimetype": "text/x-python",
   "name": "python",
   "nbconvert_exporter": "python",
   "pygments_lexer": "ipython3",
   "version": "3.8.5"
  }
 },
 "nbformat": 4,
 "nbformat_minor": 4
}
